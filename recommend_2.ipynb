{
 "cells": [
  {
   "cell_type": "markdown",
   "metadata": {},
   "source": [
    "dataフォルダがない場合に作成する処理を追加"
   ]
  },
  {
   "cell_type": "code",
   "execution_count": 1,
   "metadata": {
    "collapsed": false
   },
   "outputs": [],
   "source": [
    "import os\n",
    "from urllib.request import urlopen\n",
    "\n",
    "# MovieLensのサイトから、Zipファイルを取得し、ローカルに保存します.\n",
    "\n",
    "# dataフォルダがない場合に作成する処理を追加\n",
    "file_name = \"data/ml-100k.zip\"\n",
    "if not os.path.exists(os.path.dirname(file_name)):\n",
    "    os.makedirs(os.path.dirname(file_name))\n",
    "\n",
    "if not os.path.exists(\"data/ml-100k.zip\"):\n",
    "    url = \"http://files.grouplens.org/datasets/movielens/ml-100k.zip\"\n",
    "    with urlopen(url) as res:\n",
    "        with open(\"data/ml-100k.zip\", \"wb\") as f:\n",
    "            f.write(res.read())\n",
    "    # Zipファイルを解凍します.\n",
    "    from shutil import unpack_archive\n",
    "    unpack_archive(\"data/ml-100k.zip\", \"data/\", \"zip\")"
   ]
  },
  {
   "cell_type": "code",
   "execution_count": 2,
   "metadata": {
    "collapsed": false
   },
   "outputs": [
    {
     "data": {
      "text/html": [
       "<div>\n",
       "<table border=\"1\" class=\"dataframe\">\n",
       "  <thead>\n",
       "    <tr style=\"text-align: right;\">\n",
       "      <th></th>\n",
       "      <th>user</th>\n",
       "      <th>movie</th>\n",
       "      <th>rating</th>\n",
       "      <th>timestamp</th>\n",
       "    </tr>\n",
       "  </thead>\n",
       "  <tbody>\n",
       "    <tr>\n",
       "      <th>79995</th>\n",
       "      <td>943</td>\n",
       "      <td>1067</td>\n",
       "      <td>2</td>\n",
       "      <td>875501756</td>\n",
       "    </tr>\n",
       "    <tr>\n",
       "      <th>79996</th>\n",
       "      <td>943</td>\n",
       "      <td>1074</td>\n",
       "      <td>4</td>\n",
       "      <td>888640250</td>\n",
       "    </tr>\n",
       "    <tr>\n",
       "      <th>79997</th>\n",
       "      <td>943</td>\n",
       "      <td>1188</td>\n",
       "      <td>3</td>\n",
       "      <td>888640250</td>\n",
       "    </tr>\n",
       "    <tr>\n",
       "      <th>79998</th>\n",
       "      <td>943</td>\n",
       "      <td>1228</td>\n",
       "      <td>3</td>\n",
       "      <td>888640275</td>\n",
       "    </tr>\n",
       "    <tr>\n",
       "      <th>79999</th>\n",
       "      <td>943</td>\n",
       "      <td>1330</td>\n",
       "      <td>3</td>\n",
       "      <td>888692465</td>\n",
       "    </tr>\n",
       "  </tbody>\n",
       "</table>\n",
       "</div>"
      ],
      "text/plain": [
       "       user  movie  rating  timestamp\n",
       "79995   943   1067       2  875501756\n",
       "79996   943   1074       4  888640250\n",
       "79997   943   1188       3  888640250\n",
       "79998   943   1228       3  888640275\n",
       "79999   943   1330       3  888692465"
      ]
     },
     "execution_count": 2,
     "metadata": {},
     "output_type": "execute_result"
    }
   ],
   "source": [
    "import numpy as np\n",
    "import pandas as pd\n",
    "udata = pd.read_csv(\"data/ml-100k/u1.base\", delimiter=\"\\t\", names=(\"user\", \"movie\", \"rating\", \"timestamp\"))\n",
    "udata.tail()"
   ]
  },
  {
   "cell_type": "markdown",
   "metadata": {},
   "source": [
    "pivotメソッドを使用"
   ]
  },
  {
   "cell_type": "code",
   "execution_count": 3,
   "metadata": {
    "collapsed": false
   },
   "outputs": [],
   "source": [
    "high_rate = udata.loc[udata[\"rating\"] >= 3]\n",
    "# movieを行, columnsを列にした後、欠損部分を0埋め\n",
    "raw = high_rate.pivot(index=\"movie\", columns=\"user\", values=\"rating\")\n",
    "df = raw.fillna(0)\n",
    "# whereメソッドはわかりにくいですが、以下で3未満以外(つまり3以上)を1で埋めて返します\n",
    "df = df.where(df < 3, 1)"
   ]
  },
  {
   "cell_type": "code",
   "execution_count": 4,
   "metadata": {
    "collapsed": false
   },
   "outputs": [
    {
     "data": {
      "text/html": [
       "<div>\n",
       "<table border=\"1\" class=\"dataframe\">\n",
       "  <thead>\n",
       "    <tr style=\"text-align: right;\">\n",
       "      <th>user</th>\n",
       "      <th>1</th>\n",
       "      <th>2</th>\n",
       "      <th>3</th>\n",
       "      <th>4</th>\n",
       "      <th>5</th>\n",
       "      <th>6</th>\n",
       "      <th>7</th>\n",
       "      <th>8</th>\n",
       "      <th>9</th>\n",
       "      <th>10</th>\n",
       "      <th>...</th>\n",
       "      <th>934</th>\n",
       "      <th>935</th>\n",
       "      <th>936</th>\n",
       "      <th>937</th>\n",
       "      <th>938</th>\n",
       "      <th>939</th>\n",
       "      <th>940</th>\n",
       "      <th>941</th>\n",
       "      <th>942</th>\n",
       "      <th>943</th>\n",
       "    </tr>\n",
       "    <tr>\n",
       "      <th>movie</th>\n",
       "      <th></th>\n",
       "      <th></th>\n",
       "      <th></th>\n",
       "      <th></th>\n",
       "      <th></th>\n",
       "      <th></th>\n",
       "      <th></th>\n",
       "      <th></th>\n",
       "      <th></th>\n",
       "      <th></th>\n",
       "      <th></th>\n",
       "      <th></th>\n",
       "      <th></th>\n",
       "      <th></th>\n",
       "      <th></th>\n",
       "      <th></th>\n",
       "      <th></th>\n",
       "      <th></th>\n",
       "      <th></th>\n",
       "      <th></th>\n",
       "      <th></th>\n",
       "    </tr>\n",
       "  </thead>\n",
       "  <tbody>\n",
       "    <tr>\n",
       "      <th>1</th>\n",
       "      <td>1.0</td>\n",
       "      <td>1.0</td>\n",
       "      <td>0.0</td>\n",
       "      <td>0.0</td>\n",
       "      <td>0.0</td>\n",
       "      <td>1.0</td>\n",
       "      <td>0.0</td>\n",
       "      <td>0.0</td>\n",
       "      <td>0.0</td>\n",
       "      <td>0.0</td>\n",
       "      <td>...</td>\n",
       "      <td>0.0</td>\n",
       "      <td>1.0</td>\n",
       "      <td>1.0</td>\n",
       "      <td>0.0</td>\n",
       "      <td>1.0</td>\n",
       "      <td>0.0</td>\n",
       "      <td>0.0</td>\n",
       "      <td>1.0</td>\n",
       "      <td>0.0</td>\n",
       "      <td>0.0</td>\n",
       "    </tr>\n",
       "    <tr>\n",
       "      <th>2</th>\n",
       "      <td>1.0</td>\n",
       "      <td>0.0</td>\n",
       "      <td>0.0</td>\n",
       "      <td>0.0</td>\n",
       "      <td>0.0</td>\n",
       "      <td>0.0</td>\n",
       "      <td>0.0</td>\n",
       "      <td>0.0</td>\n",
       "      <td>0.0</td>\n",
       "      <td>0.0</td>\n",
       "      <td>...</td>\n",
       "      <td>1.0</td>\n",
       "      <td>0.0</td>\n",
       "      <td>0.0</td>\n",
       "      <td>0.0</td>\n",
       "      <td>0.0</td>\n",
       "      <td>0.0</td>\n",
       "      <td>0.0</td>\n",
       "      <td>0.0</td>\n",
       "      <td>0.0</td>\n",
       "      <td>1.0</td>\n",
       "    </tr>\n",
       "    <tr>\n",
       "      <th>3</th>\n",
       "      <td>1.0</td>\n",
       "      <td>0.0</td>\n",
       "      <td>0.0</td>\n",
       "      <td>0.0</td>\n",
       "      <td>0.0</td>\n",
       "      <td>0.0</td>\n",
       "      <td>0.0</td>\n",
       "      <td>0.0</td>\n",
       "      <td>0.0</td>\n",
       "      <td>0.0</td>\n",
       "      <td>...</td>\n",
       "      <td>0.0</td>\n",
       "      <td>0.0</td>\n",
       "      <td>1.0</td>\n",
       "      <td>0.0</td>\n",
       "      <td>0.0</td>\n",
       "      <td>0.0</td>\n",
       "      <td>0.0</td>\n",
       "      <td>0.0</td>\n",
       "      <td>0.0</td>\n",
       "      <td>0.0</td>\n",
       "    </tr>\n",
       "    <tr>\n",
       "      <th>4</th>\n",
       "      <td>1.0</td>\n",
       "      <td>0.0</td>\n",
       "      <td>0.0</td>\n",
       "      <td>0.0</td>\n",
       "      <td>0.0</td>\n",
       "      <td>0.0</td>\n",
       "      <td>1.0</td>\n",
       "      <td>0.0</td>\n",
       "      <td>0.0</td>\n",
       "      <td>0.0</td>\n",
       "      <td>...</td>\n",
       "      <td>1.0</td>\n",
       "      <td>0.0</td>\n",
       "      <td>0.0</td>\n",
       "      <td>0.0</td>\n",
       "      <td>0.0</td>\n",
       "      <td>0.0</td>\n",
       "      <td>0.0</td>\n",
       "      <td>0.0</td>\n",
       "      <td>0.0</td>\n",
       "      <td>0.0</td>\n",
       "    </tr>\n",
       "    <tr>\n",
       "      <th>5</th>\n",
       "      <td>1.0</td>\n",
       "      <td>0.0</td>\n",
       "      <td>0.0</td>\n",
       "      <td>0.0</td>\n",
       "      <td>0.0</td>\n",
       "      <td>0.0</td>\n",
       "      <td>0.0</td>\n",
       "      <td>0.0</td>\n",
       "      <td>0.0</td>\n",
       "      <td>0.0</td>\n",
       "      <td>...</td>\n",
       "      <td>0.0</td>\n",
       "      <td>0.0</td>\n",
       "      <td>0.0</td>\n",
       "      <td>0.0</td>\n",
       "      <td>0.0</td>\n",
       "      <td>0.0</td>\n",
       "      <td>0.0</td>\n",
       "      <td>0.0</td>\n",
       "      <td>0.0</td>\n",
       "      <td>0.0</td>\n",
       "    </tr>\n",
       "  </tbody>\n",
       "</table>\n",
       "<p>5 rows × 943 columns</p>\n",
       "</div>"
      ],
      "text/plain": [
       "user   1    2    3    4    5    6    7    8    9    10  ...   934  935  936  \\\n",
       "movie                                                   ...                   \n",
       "1      1.0  1.0  0.0  0.0  0.0  1.0  0.0  0.0  0.0  0.0 ...   0.0  1.0  1.0   \n",
       "2      1.0  0.0  0.0  0.0  0.0  0.0  0.0  0.0  0.0  0.0 ...   1.0  0.0  0.0   \n",
       "3      1.0  0.0  0.0  0.0  0.0  0.0  0.0  0.0  0.0  0.0 ...   0.0  0.0  1.0   \n",
       "4      1.0  0.0  0.0  0.0  0.0  0.0  1.0  0.0  0.0  0.0 ...   1.0  0.0  0.0   \n",
       "5      1.0  0.0  0.0  0.0  0.0  0.0  0.0  0.0  0.0  0.0 ...   0.0  0.0  0.0   \n",
       "\n",
       "user   937  938  939  940  941  942  943  \n",
       "movie                                     \n",
       "1      0.0  1.0  0.0  0.0  1.0  0.0  0.0  \n",
       "2      0.0  0.0  0.0  0.0  0.0  0.0  1.0  \n",
       "3      0.0  0.0  0.0  0.0  0.0  0.0  0.0  \n",
       "4      0.0  0.0  0.0  0.0  0.0  0.0  0.0  \n",
       "5      0.0  0.0  0.0  0.0  0.0  0.0  0.0  \n",
       "\n",
       "[5 rows x 943 columns]"
      ]
     },
     "execution_count": 4,
     "metadata": {},
     "output_type": "execute_result"
    }
   ],
   "source": [
    "df.head()"
   ]
  },
  {
   "cell_type": "code",
   "execution_count": 5,
   "metadata": {
    "collapsed": false
   },
   "outputs": [
    {
     "name": "stdout",
     "output_type": "stream",
     "text": [
      "[[-1.          0.32520786  0.27172635 ...,  0.          0.05322463\n",
      "   0.05322463]\n",
      " [ 0.32520786 -1.          0.20689728 ...,  0.          0.10910895\n",
      "   0.10910895]\n",
      " [ 0.27172635  0.20689728 -1.         ...,  0.          0.          0.14586499]\n",
      " ..., \n",
      " [ 0.          0.          0.         ..., -1.          0.          0.        ]\n",
      " [ 0.05322463  0.10910895  0.         ...,  0.         -1.          0.        ]\n",
      " [ 0.05322463  0.10910895  0.14586499 ...,  0.          0.         -1.        ]]\n"
     ]
    }
   ],
   "source": [
    "# 上記の雰囲気で、総当たりで全アイテムの距離を計算する.\n",
    "from scipy.spatial.distance import pdist\n",
    "d = pdist(df, \"cosine\")\n",
    "# 類似度 = 1 - コサイン距離\n",
    "d = 1 - d\n",
    "\n",
    "# 結果を行列に変換します（上記だとベクトルで見辛い！！）\n",
    "from scipy.spatial.distance import squareform\n",
    "d = squareform(d)\n",
    "# nan ができるので、0に補正します.\n",
    "d[np.isnan(d)] = 0\n",
    "\n",
    "# ここでちょっとしたトリックで、自分自身は「-1」に補正して、類似度を最低にします.\n",
    "d = d - np.eye(d.shape[0])\n",
    "\n",
    "# 表示してみる.\n",
    "print(d)"
   ]
  },
  {
   "cell_type": "markdown",
   "metadata": {},
   "source": [
    "例えば、映画ID=1に類似する映画を、類似度の高い順に並べてみます。\n",
    "\n",
    "メモリ効率や速度を考え、Numpyを使います。"
   ]
  },
  {
   "cell_type": "code",
   "execution_count": 6,
   "metadata": {
    "collapsed": false
   },
   "outputs": [
    {
     "name": "stdout",
     "output_type": "stream",
     "text": [
      "049:  0.628\n",
      "180:  0.602\n",
      "120:  0.564\n",
      "116:  0.559\n",
      "221:  0.545\n",
      "403:  0.539\n",
      "256:  0.530\n",
      "236:  0.530\n",
      "006:  0.528\n",
      "150:  0.519\n"
     ]
    }
   ],
   "source": [
    "movie_id = 0\n",
    "\n",
    "# 評価の良い順に並べます.\n",
    "# ソート後のインデックスを収納\n",
    "id = d[movie_id].argsort()[::-1]\n",
    "\n",
    "# 最初の10件を表示してみます.\n",
    "for i in id[:10]:\n",
    "    print(\"{i:0>3d}: {v: .3f}\".format(i=i, v=d[movie_id, i]))"
   ]
  },
  {
   "cell_type": "markdown",
   "metadata": {},
   "source": [
    "レコメンドの関数"
   ]
  },
  {
   "cell_type": "code",
   "execution_count": 7,
   "metadata": {
    "collapsed": false
   },
   "outputs": [
    {
     "name": "stdout",
     "output_type": "stream",
     "text": [
      "[312, 301, 306, 331, 314, 287, 742, 299, 740, 329]\n"
     ]
    }
   ],
   "source": [
    "# 指定したユーザーへレコメンドするアイテムを10個出力する関数\n",
    "def get_recommend_items(user_id):\n",
    "    # 高く評価した映画のリストを取得\n",
    "    favorite = df.loc[:, user_id].nonzero()\n",
    "    # 評価済み映画のリストを取得\n",
    "    reviewed = raw[raw.loc[:, user_id].notnull()].index.tolist()\n",
    "    # 評価テーブルから、高評価の行を取り出す\n",
    "    table = d[favorite]\n",
    "    # 列ごとに類似度を合計\n",
    "    indicator = table.sum(axis=0)\n",
    "    # ソート\n",
    "    sorted_id = indicator.argsort()[::-1]\n",
    "    # 評価済みを削除\n",
    "    recommend_id = [i for i in sorted_id if i not in reviewed]\n",
    "    # 10件だけ返す\n",
    "    return recommend_id[:10]\n",
    "\n",
    "# 試しにUser_ID=100の人\n",
    "recommends = get_recommend_items(100)\n",
    "print(recommends)"
   ]
  },
  {
   "cell_type": "markdown",
   "metadata": {},
   "source": [
    "テスト"
   ]
  },
  {
   "cell_type": "code",
   "execution_count": 8,
   "metadata": {
    "collapsed": false
   },
   "outputs": [
    {
     "data": {
      "text/html": [
       "<div>\n",
       "<table border=\"1\" class=\"dataframe\">\n",
       "  <thead>\n",
       "    <tr style=\"text-align: right;\">\n",
       "      <th></th>\n",
       "      <th>user</th>\n",
       "      <th>movie</th>\n",
       "      <th>rating</th>\n",
       "      <th>timestamp</th>\n",
       "    </tr>\n",
       "  </thead>\n",
       "  <tbody>\n",
       "    <tr>\n",
       "      <th>0</th>\n",
       "      <td>1</td>\n",
       "      <td>6</td>\n",
       "      <td>5</td>\n",
       "      <td>887431973</td>\n",
       "    </tr>\n",
       "    <tr>\n",
       "      <th>1</th>\n",
       "      <td>1</td>\n",
       "      <td>10</td>\n",
       "      <td>3</td>\n",
       "      <td>875693118</td>\n",
       "    </tr>\n",
       "    <tr>\n",
       "      <th>2</th>\n",
       "      <td>1</td>\n",
       "      <td>12</td>\n",
       "      <td>5</td>\n",
       "      <td>878542960</td>\n",
       "    </tr>\n",
       "    <tr>\n",
       "      <th>3</th>\n",
       "      <td>1</td>\n",
       "      <td>14</td>\n",
       "      <td>5</td>\n",
       "      <td>874965706</td>\n",
       "    </tr>\n",
       "    <tr>\n",
       "      <th>4</th>\n",
       "      <td>1</td>\n",
       "      <td>17</td>\n",
       "      <td>3</td>\n",
       "      <td>875073198</td>\n",
       "    </tr>\n",
       "  </tbody>\n",
       "</table>\n",
       "</div>"
      ],
      "text/plain": [
       "   user  movie  rating  timestamp\n",
       "0     1      6       5  887431973\n",
       "1     1     10       3  875693118\n",
       "2     1     12       5  878542960\n",
       "3     1     14       5  874965706\n",
       "4     1     17       3  875073198"
      ]
     },
     "execution_count": 8,
     "metadata": {},
     "output_type": "execute_result"
    }
   ],
   "source": [
    "utest = pd.read_csv(\"data/ml-100k/u1.test\", delimiter=\"\\t\", names=(\"user\", \"movie\", \"rating\", \"timestamp\"))\n",
    "utest.head()"
   ]
  },
  {
   "cell_type": "code",
   "execution_count": 9,
   "metadata": {
    "collapsed": true
   },
   "outputs": [],
   "source": [
    "high_rate_test = utest.loc[udata[\"rating\"] >= 3]\n",
    "raw_test = high_rate_test.pivot(index=\"movie\", columns=\"user\", values=\"rating\")\n",
    "df_test = raw_test.fillna(0)\n",
    "df_test = df_test.where(df_test < 3, 1)"
   ]
  },
  {
   "cell_type": "code",
   "execution_count": 10,
   "metadata": {
    "collapsed": false
   },
   "outputs": [
    {
     "data": {
      "text/plain": [
       "{81, 97}"
      ]
     },
     "execution_count": 10,
     "metadata": {},
     "output_type": "execute_result"
    }
   ],
   "source": [
    "# 試しに、userId=1の人でテスト.\n",
    "user_id = 1\n",
    "real = set(df_test.loc[:, user_id].nonzero()[0])\n",
    "recommends = set(get_recommend_items(user_id))\n",
    "real & recommends"
   ]
  },
  {
   "cell_type": "code",
   "execution_count": 11,
   "metadata": {
    "collapsed": false
   },
   "outputs": [
    {
     "name": "stdout",
     "output_type": "stream",
     "text": [
      "全件=458, 成功数=338, 成功率=73%\n"
     ]
    }
   ],
   "source": [
    "users = df_test.columns\n",
    "all = len(users)\n",
    "good = 0\n",
    "\n",
    "for user_id in users:\n",
    "    real = set(df_test.loc[:, user_id].nonzero()[0])\n",
    "    recommends = set(get_recommend_items(user_id))\n",
    "    matches = real & recommends\n",
    "    good += 1 if matches else 0\n",
    "\n",
    "print(\"全件={0}, 成功数={1}, 成功率={2}%\".format(all, good, good * 100 // all))"
   ]
  }
 ],
 "metadata": {
  "anaconda-cloud": {},
  "kernelspec": {
   "display_name": "Python [default]",
   "language": "python",
   "name": "python3"
  },
  "language_info": {
   "codemirror_mode": {
    "name": "ipython",
    "version": 3
   },
   "file_extension": ".py",
   "mimetype": "text/x-python",
   "name": "python",
   "nbconvert_exporter": "python",
   "pygments_lexer": "ipython3",
   "version": "3.5.2"
  }
 },
 "nbformat": 4,
 "nbformat_minor": 2
}
