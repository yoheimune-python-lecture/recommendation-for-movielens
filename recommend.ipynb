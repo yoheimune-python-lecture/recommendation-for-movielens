{
 "cells": [
  {
   "cell_type": "markdown",
   "metadata": {},
   "source": [
    "# MovieLens を用いたレコメンデーションの実装\n",
    "このノートでは、レコメンデーションの実装例を示します。"
   ]
  },
  {
   "cell_type": "markdown",
   "metadata": {},
   "source": [
    "## 1. データの取得\n",
    "[MovieLens](https://grouplens.org/datasets/movielens/100k/)から利用するデータを取得します。\n",
    "取得したデータは `data/`ディレクトリに保存し、zip解凍もしておきます。"
   ]
  },
  {
   "cell_type": "code",
   "execution_count": 1,
   "metadata": {
    "collapsed": false
   },
   "outputs": [],
   "source": [
    "import os\n",
    "from urllib.request import urlopen\n",
    "\n",
    "# MovieLensのサイトから、Zipファイルを取得し、ローカルに保存します.\n",
    "if not os.path.exists(\"ml-100k.zip\"):\n",
    "    url = \"http://files.grouplens.org/datasets/movielens/ml-100k.zip\"\n",
    "    with urlopen(url) as res:\n",
    "        with open(\"data/ml-100k.zip\", \"wb\") as f:\n",
    "            f.write(res.read())"
   ]
  },
  {
   "cell_type": "code",
   "execution_count": 187,
   "metadata": {
    "collapsed": false
   },
   "outputs": [],
   "source": [
    "# Zipファイルを解凍します.\n",
    "from shutil import unpack_archive\n",
    "unpack_archive(\"data/ml-100k.zip\", \"data/\", \"zip\")"
   ]
  },
  {
   "cell_type": "markdown",
   "metadata": {},
   "source": [
    "## 2. データの前処理\n",
    "取得したデータのうち `u1.base` という学習用データ（全10万件のうち7万件）を利用します。  \n",
    "まずは取得したデータをそのままの形で、DataFrameとして読み込んで見ます。"
   ]
  },
  {
   "cell_type": "code",
   "execution_count": 188,
   "metadata": {
    "collapsed": false
   },
   "outputs": [
    {
     "data": {
      "text/html": [
       "<div>\n",
       "<table border=\"1\" class=\"dataframe\">\n",
       "  <thead>\n",
       "    <tr style=\"text-align: right;\">\n",
       "      <th></th>\n",
       "      <th>user</th>\n",
       "      <th>movie</th>\n",
       "      <th>rating</th>\n",
       "      <th>timestamp</th>\n",
       "    </tr>\n",
       "  </thead>\n",
       "  <tbody>\n",
       "    <tr>\n",
       "      <th>79995</th>\n",
       "      <td>943</td>\n",
       "      <td>1067</td>\n",
       "      <td>2</td>\n",
       "      <td>875501756</td>\n",
       "    </tr>\n",
       "    <tr>\n",
       "      <th>79996</th>\n",
       "      <td>943</td>\n",
       "      <td>1074</td>\n",
       "      <td>4</td>\n",
       "      <td>888640250</td>\n",
       "    </tr>\n",
       "    <tr>\n",
       "      <th>79997</th>\n",
       "      <td>943</td>\n",
       "      <td>1188</td>\n",
       "      <td>3</td>\n",
       "      <td>888640250</td>\n",
       "    </tr>\n",
       "    <tr>\n",
       "      <th>79998</th>\n",
       "      <td>943</td>\n",
       "      <td>1228</td>\n",
       "      <td>3</td>\n",
       "      <td>888640275</td>\n",
       "    </tr>\n",
       "    <tr>\n",
       "      <th>79999</th>\n",
       "      <td>943</td>\n",
       "      <td>1330</td>\n",
       "      <td>3</td>\n",
       "      <td>888692465</td>\n",
       "    </tr>\n",
       "  </tbody>\n",
       "</table>\n",
       "</div>"
      ],
      "text/plain": [
       "       user  movie  rating  timestamp\n",
       "79995   943   1067       2  875501756\n",
       "79996   943   1074       4  888640250\n",
       "79997   943   1188       3  888640250\n",
       "79998   943   1228       3  888640275\n",
       "79999   943   1330       3  888692465"
      ]
     },
     "execution_count": 188,
     "metadata": {},
     "output_type": "execute_result"
    }
   ],
   "source": [
    "import numpy as np\n",
    "import pandas as pd\n",
    "udata = pd.read_csv(\"data/ml-100k/u1.base\", delimiter=\"\\t\", names=(\"user\", \"movie\", \"rating\", \"timestamp\"))\n",
    "udata.tail()"
   ]
  },
  {
   "cell_type": "markdown",
   "metadata": {},
   "source": [
    "上記の形式だと学習に用いづらいため、 **行が映画、列がユーザーの行列(マトリックス)** に変換します。"
   ]
  },
  {
   "cell_type": "code",
   "execution_count": 189,
   "metadata": {
    "collapsed": false
   },
   "outputs": [
    {
     "data": {
      "text/plain": [
       "(1682, 943)"
      ]
     },
     "execution_count": 189,
     "metadata": {},
     "output_type": "execute_result"
    }
   ],
   "source": [
    "data = np.zeros((udata[\"movie\"].max(), udata[\"user\"].max()), dtype=np.int)\n",
    "data.shape"
   ]
  },
  {
   "cell_type": "markdown",
   "metadata": {},
   "source": [
    "`data.shape` から、映画数=1682、ユーザー数=943のデータであることがわかります。\n",
    "\n",
    "続いて、上記で作成したマトリックスに、評価データを流し込みます。  \n",
    "ここでは少しだけ工夫をして、 **評価>=3のみを対象（つまり、好評価のみ）** に、評価データを取り込みます。  \n",
    "また評価数の情報は消し、評価>=3の場合には「1」を登録することとします。"
   ]
  },
  {
   "cell_type": "code",
   "execution_count": 190,
   "metadata": {
    "collapsed": false
   },
   "outputs": [],
   "source": [
    "for i, row in udata.iterrows():\n",
    "    # ratingが3以上のみを対象にしよう（好評価のみ）\n",
    "    if row[\"rating\"] >= 3:\n",
    "        data[row[\"movie\"]-1][row[\"user\"]-1] = 1"
   ]
  },
  {
   "cell_type": "markdown",
   "metadata": {},
   "source": [
    "ついでにDataFrameに変換しておきます。"
   ]
  },
  {
   "cell_type": "code",
   "execution_count": 75,
   "metadata": {
    "collapsed": false
   },
   "outputs": [
    {
     "data": {
      "text/html": [
       "<div>\n",
       "<table border=\"1\" class=\"dataframe\">\n",
       "  <thead>\n",
       "    <tr style=\"text-align: right;\">\n",
       "      <th></th>\n",
       "      <th>0</th>\n",
       "      <th>1</th>\n",
       "      <th>2</th>\n",
       "      <th>3</th>\n",
       "      <th>4</th>\n",
       "      <th>5</th>\n",
       "      <th>6</th>\n",
       "      <th>7</th>\n",
       "      <th>8</th>\n",
       "      <th>9</th>\n",
       "      <th>...</th>\n",
       "      <th>933</th>\n",
       "      <th>934</th>\n",
       "      <th>935</th>\n",
       "      <th>936</th>\n",
       "      <th>937</th>\n",
       "      <th>938</th>\n",
       "      <th>939</th>\n",
       "      <th>940</th>\n",
       "      <th>941</th>\n",
       "      <th>942</th>\n",
       "    </tr>\n",
       "  </thead>\n",
       "  <tbody>\n",
       "    <tr>\n",
       "      <th>0</th>\n",
       "      <td>1</td>\n",
       "      <td>1</td>\n",
       "      <td>0</td>\n",
       "      <td>0</td>\n",
       "      <td>0</td>\n",
       "      <td>1</td>\n",
       "      <td>0</td>\n",
       "      <td>0</td>\n",
       "      <td>0</td>\n",
       "      <td>0</td>\n",
       "      <td>...</td>\n",
       "      <td>0</td>\n",
       "      <td>1</td>\n",
       "      <td>1</td>\n",
       "      <td>0</td>\n",
       "      <td>1</td>\n",
       "      <td>0</td>\n",
       "      <td>0</td>\n",
       "      <td>1</td>\n",
       "      <td>0</td>\n",
       "      <td>0</td>\n",
       "    </tr>\n",
       "    <tr>\n",
       "      <th>1</th>\n",
       "      <td>1</td>\n",
       "      <td>0</td>\n",
       "      <td>0</td>\n",
       "      <td>0</td>\n",
       "      <td>0</td>\n",
       "      <td>0</td>\n",
       "      <td>0</td>\n",
       "      <td>0</td>\n",
       "      <td>0</td>\n",
       "      <td>0</td>\n",
       "      <td>...</td>\n",
       "      <td>1</td>\n",
       "      <td>0</td>\n",
       "      <td>0</td>\n",
       "      <td>0</td>\n",
       "      <td>0</td>\n",
       "      <td>0</td>\n",
       "      <td>0</td>\n",
       "      <td>0</td>\n",
       "      <td>0</td>\n",
       "      <td>1</td>\n",
       "    </tr>\n",
       "    <tr>\n",
       "      <th>2</th>\n",
       "      <td>1</td>\n",
       "      <td>0</td>\n",
       "      <td>0</td>\n",
       "      <td>0</td>\n",
       "      <td>0</td>\n",
       "      <td>0</td>\n",
       "      <td>0</td>\n",
       "      <td>0</td>\n",
       "      <td>0</td>\n",
       "      <td>0</td>\n",
       "      <td>...</td>\n",
       "      <td>0</td>\n",
       "      <td>0</td>\n",
       "      <td>1</td>\n",
       "      <td>0</td>\n",
       "      <td>0</td>\n",
       "      <td>0</td>\n",
       "      <td>0</td>\n",
       "      <td>0</td>\n",
       "      <td>0</td>\n",
       "      <td>0</td>\n",
       "    </tr>\n",
       "    <tr>\n",
       "      <th>3</th>\n",
       "      <td>1</td>\n",
       "      <td>0</td>\n",
       "      <td>0</td>\n",
       "      <td>0</td>\n",
       "      <td>0</td>\n",
       "      <td>0</td>\n",
       "      <td>1</td>\n",
       "      <td>0</td>\n",
       "      <td>0</td>\n",
       "      <td>0</td>\n",
       "      <td>...</td>\n",
       "      <td>1</td>\n",
       "      <td>0</td>\n",
       "      <td>0</td>\n",
       "      <td>0</td>\n",
       "      <td>0</td>\n",
       "      <td>0</td>\n",
       "      <td>0</td>\n",
       "      <td>0</td>\n",
       "      <td>0</td>\n",
       "      <td>0</td>\n",
       "    </tr>\n",
       "    <tr>\n",
       "      <th>4</th>\n",
       "      <td>1</td>\n",
       "      <td>0</td>\n",
       "      <td>0</td>\n",
       "      <td>0</td>\n",
       "      <td>0</td>\n",
       "      <td>0</td>\n",
       "      <td>0</td>\n",
       "      <td>0</td>\n",
       "      <td>0</td>\n",
       "      <td>0</td>\n",
       "      <td>...</td>\n",
       "      <td>0</td>\n",
       "      <td>0</td>\n",
       "      <td>0</td>\n",
       "      <td>0</td>\n",
       "      <td>0</td>\n",
       "      <td>0</td>\n",
       "      <td>0</td>\n",
       "      <td>0</td>\n",
       "      <td>0</td>\n",
       "      <td>0</td>\n",
       "    </tr>\n",
       "  </tbody>\n",
       "</table>\n",
       "<p>5 rows × 943 columns</p>\n",
       "</div>"
      ],
      "text/plain": [
       "   0    1    2    3    4    5    6    7    8    9   ...   933  934  935  936  \\\n",
       "0    1    1    0    0    0    1    0    0    0    0 ...     0    1    1    0   \n",
       "1    1    0    0    0    0    0    0    0    0    0 ...     1    0    0    0   \n",
       "2    1    0    0    0    0    0    0    0    0    0 ...     0    0    1    0   \n",
       "3    1    0    0    0    0    0    1    0    0    0 ...     1    0    0    0   \n",
       "4    1    0    0    0    0    0    0    0    0    0 ...     0    0    0    0   \n",
       "\n",
       "   937  938  939  940  941  942  \n",
       "0    1    0    0    1    0    0  \n",
       "1    0    0    0    0    0    1  \n",
       "2    0    0    0    0    0    0  \n",
       "3    0    0    0    0    0    0  \n",
       "4    0    0    0    0    0    0  \n",
       "\n",
       "[5 rows x 943 columns]"
      ]
     },
     "execution_count": 75,
     "metadata": {},
     "output_type": "execute_result"
    }
   ],
   "source": [
    "df = pd.DataFrame(data)\n",
    "df.head()"
   ]
  },
  {
   "cell_type": "markdown",
   "metadata": {},
   "source": [
    "（参考までに）  \n",
    "評価>=3のデータ数を確認してみましょう。"
   ]
  },
  {
   "cell_type": "code",
   "execution_count": 191,
   "metadata": {
    "collapsed": false
   },
   "outputs": [
    {
     "data": {
      "text/plain": [
       "66103"
      ]
     },
     "execution_count": 191,
     "metadata": {},
     "output_type": "execute_result"
    }
   ],
   "source": [
    "# 評価として取り込んだデータの数\n",
    "df.astype(bool).sum(axis=1).sum()"
   ]
  },
  {
   "cell_type": "markdown",
   "metadata": {},
   "source": [
    "全70,000件中、66,103件は好評価のようです（94%）。今回は、評価>=3の考慮はあまり意味がなさそうです(笑)。  \n",
    "ですが、評価データを扱う場合にはそれがプラス/マイナスのどちらなのかを意識することは重要です。"
   ]
  },
  {
   "cell_type": "markdown",
   "metadata": {},
   "source": [
    "## 3. 映画同士の類似度を計算する\n",
    "それでは、学習データからレコメンドデータを作成したいと思います。  \n",
    "\n",
    "前処理から、DataFrameは「1682 x 943」のデータであることがわかっています（映画数=1682、ユーザー数=943）。\n",
    "ここでは各映画が943個の特徴を持つベクトルと考えることとし、各ベクトルのコサイン距離から類似度を計算することとします。\n",
    "\n",
    "まずは簡素化して、以下のような映画が2つあるとします。"
   ]
  },
  {
   "cell_type": "code",
   "execution_count": 193,
   "metadata": {
    "collapsed": true
   },
   "outputs": [],
   "source": [
    "item1 = np.array([1,1,0])\n",
    "item2 = np.array([1,0,1])"
   ]
  },
  {
   "cell_type": "markdown",
   "metadata": {},
   "source": [
    "上記は、それぞれ3つの特徴を持つベクトルで、コサイン距離は以下のように計算します。"
   ]
  },
  {
   "cell_type": "code",
   "execution_count": 195,
   "metadata": {
    "collapsed": false
   },
   "outputs": [
    {
     "data": {
      "text/plain": [
       "0.50000000000000011"
      ]
     },
     "execution_count": 195,
     "metadata": {},
     "output_type": "execute_result"
    }
   ],
   "source": [
    "from scipy.spatial.distance import cosine\n",
    "cosine(item1, item2)"
   ]
  },
  {
   "cell_type": "markdown",
   "metadata": {},
   "source": [
    "ここで、コサイン距離は、ベクトルが直交する（=つまり類似度が全くない）場合には「1」となるため、類似度は以下のように計算します。"
   ]
  },
  {
   "cell_type": "code",
   "execution_count": 198,
   "metadata": {
    "collapsed": false
   },
   "outputs": [
    {
     "name": "stdout",
     "output_type": "stream",
     "text": [
      "0.5\n"
     ]
    }
   ],
   "source": [
    "sim = 1 - cosine(item1, item2)\n",
    "print(sim)"
   ]
  },
  {
   "cell_type": "markdown",
   "metadata": {},
   "source": [
    "上記の要領で、映画ID=1と映画ID=2の類似度を計算してみると、以下のようになります。"
   ]
  },
  {
   "cell_type": "code",
   "execution_count": 200,
   "metadata": {
    "collapsed": false
   },
   "outputs": [
    {
     "name": "stdout",
     "output_type": "stream",
     "text": [
      "0.325207858278\n"
     ]
    }
   ],
   "source": [
    "sim = 1 - cosine(data[0], data[1])\n",
    "print(sim)"
   ]
  },
  {
   "cell_type": "markdown",
   "metadata": {},
   "source": [
    "上記の `0.32`は相対的な数値でありそれ自体に意味はありませんが、他の類似度と比較することで、より類似しているアイテムを見つけることができます。\n",
    "\n",
    "上記の感じを、総当たりで全アイテムの類似度を計算します。  \n",
    "ここではscipyの `pdist` を用いてお手軽に行います。"
   ]
  },
  {
   "cell_type": "code",
   "execution_count": 78,
   "metadata": {
    "collapsed": false
   },
   "outputs": [
    {
     "name": "stdout",
     "output_type": "stream",
     "text": [
      "[[ 0.          0.32520786  0.27172635 ...,  0.          0.05322463\n",
      "   0.05322463]\n",
      " [ 0.32520786  0.          0.20689728 ...,  0.          0.10910895\n",
      "   0.10910895]\n",
      " [ 0.27172635  0.20689728  0.         ...,  0.          0.          0.14586499]\n",
      " ..., \n",
      " [ 0.          0.          0.         ...,  0.          0.          0.        ]\n",
      " [ 0.05322463  0.10910895  0.         ...,  0.          0.          0.        ]\n",
      " [ 0.05322463  0.10910895  0.14586499 ...,  0.          0.          0.        ]]\n"
     ]
    }
   ],
   "source": [
    "# 上記の雰囲気で、総当たりで全アイテムの距離を計算する.\n",
    "from scipy.spatial.distance import pdist\n",
    "d = pdist(data, \"cosine\")\n",
    "# 類似度 = 1 - コサイン距離\n",
    "d = 1 - d\n",
    "\n",
    "# 結果を行列に変換します（上記だとベクトルで見辛い！！）\n",
    "from scipy.spatial.distance import squareform\n",
    "d = squareform(d)\n",
    "# nan ができるので、0に補正します.\n",
    "d[np.isnan(d)] = 0\n",
    "\n",
    "# ここでちょっとしたトリックで、自分自身は「-1」に補正して、類似度を最低にします.\n",
    "d = d - np.eye(d.shape[0])\n",
    "\n",
    "# 表示してみる.\n",
    "print(d)"
   ]
  },
  {
   "cell_type": "markdown",
   "metadata": {},
   "source": [
    "上記で、各映画ごとの類似度を総当たりで計算することができました。  \n",
    "この後のレコメンドの作成は、上記のデータを用いて推薦するアイテムを作成します。"
   ]
  },
  {
   "cell_type": "markdown",
   "metadata": {},
   "source": [
    "## 4. レコメンドデータを作成する\n",
    "\n",
    "例えば、映画ID=1に類似する映画を、類似度の高い順に並べてみます。"
   ]
  },
  {
   "cell_type": "code",
   "execution_count": 201,
   "metadata": {
    "collapsed": false
   },
   "outputs": [
    {
     "name": "stdout",
     "output_type": "stream",
     "text": [
      "[(49, 0.62828380959743046),\n",
      " (180, 0.60179361066116654),\n",
      " (120, 0.56361171748207761),\n",
      " (116, 0.55909527338435139),\n",
      " (221, 0.5448072284259402),\n",
      " (404, 0.53934291268451406),\n",
      " (256, 0.52993874949054487),\n",
      " (236, 0.52990539045000284),\n",
      " (6, 0.52766307860331085),\n",
      " (150, 0.51909505604442208)]\n"
     ]
    }
   ],
   "source": [
    "movie_id = 0  # DataFrameのindexは 0 始まり\n",
    "\n",
    "#  映画IDと評価のマップを作成します.\n",
    "recommends = {}\n",
    "for index, sim in enumerate(d[movie_id]):\n",
    "    if sim > 0:\n",
    "        recommends[index] = sim\n",
    "\n",
    "# 評価の良い順に並べます.\n",
    "recommends = sorted(list(recommends.items()), key=lambda r:r[1], reverse=True)\n",
    "\n",
    "# 最初の10件を表示してみます.\n",
    "from pprint import pprint\n",
    "pprint(recommends[:10])"
   ]
  },
  {
   "cell_type": "markdown",
   "metadata": {},
   "source": [
    "映画IDが「49, 180, 120, ・・・」と類似度の高い順に並んでいることがわかります。  \n",
    "\n",
    "さて、上記の処理を応用して、指定したユーザーへ映画を10本レコメンドする関数を実装します。処理の流れは以下の通りです。  \n",
    "\n",
    "\n",
    "**指定したユーザーへ映画を10本レコメンドする関数の仕様**\n",
    "* 指定されたユーザーが評価した映画一覧を取得する\n",
    "* 各映画に対してレコメンド候補を取得する（上の映画ID=1の類似作品の処理と同じ）\n",
    "* レコメンド候補から、すでに閲覧済のデータは除去します\n",
    "* レコメンド候補から、上位10件を返却します\n",
    "\n",
    "具体的には以下のような実装となります。"
   ]
  },
  {
   "cell_type": "code",
   "execution_count": 179,
   "metadata": {
    "collapsed": false
   },
   "outputs": [
    {
     "name": "stdout",
     "output_type": "stream",
     "text": [
      "[236, 110, 297, 49, 120, 281, 470, 814, 14, 404]\n"
     ]
    }
   ],
   "source": [
    "# 指定したユーザーへレコメンドするアイテムを10個出力する関数\n",
    "def get_recommend_items(user_id):\n",
    "    # 指定ユーザーが評価した映画一覧を取得.\n",
    "    used = set(df[user_id].nonzero()[0].tolist())\n",
    "    # レコメンドを作成.\n",
    "    candidates = {}\n",
    "    for movie_id in used:\n",
    "        for index, sim in enumerate(d[movie_id]):\n",
    "            if sim > 0:\n",
    "                candidates[index] = sim\n",
    "    candidates = sorted(list(candidates.items()), key=lambda r:r[1], reverse=True)\n",
    "    # すでに閲覧済は除く.\n",
    "    recommends = []\n",
    "    for c in candidates:\n",
    "        if c[0] not in used:\n",
    "            recommends.append(c)\n",
    "\n",
    "    # 返却.\n",
    "    return [r[0] for r in recommends[:10]]\n",
    "\n",
    "# 試しにUser_ID=100の人\n",
    "recommends = get_recommend_items(100)\n",
    "print(recommends)"
   ]
  },
  {
   "cell_type": "markdown",
   "metadata": {},
   "source": [
    "これで、レコメンド処理の実装が完了しました！！！"
   ]
  },
  {
   "cell_type": "markdown",
   "metadata": {},
   "source": [
    "## 5. レコメンド結果の評価\n",
    "上記で作成したレコメンドについて、どれほどの良いのか（悪いのか）評価したいと思います。  \n",
    "ここでは評価用のデータ（u1.test）を用いて評価を行います。\n",
    "\n",
    "**[評価方法]**\n",
    "* 評価データにあるユーザーに対して、レコメンドを10件表示する\n",
    "  * レコメンドの生成は、上記で定義した「**get_recommend_items**」を用います。\n",
    "* 表示したレコメンド10件のうち、1件以上、評価データ内で閲覧したデータがあれば成功。\n",
    "* 「成功数 / ユーザー数」で精度を測る。"
   ]
  },
  {
   "cell_type": "markdown",
   "metadata": {},
   "source": [
    "まずはテストデータを読み込みます。"
   ]
  },
  {
   "cell_type": "code",
   "execution_count": 203,
   "metadata": {
    "collapsed": false
   },
   "outputs": [
    {
     "data": {
      "text/html": [
       "<div>\n",
       "<table border=\"1\" class=\"dataframe\">\n",
       "  <thead>\n",
       "    <tr style=\"text-align: right;\">\n",
       "      <th></th>\n",
       "      <th>user</th>\n",
       "      <th>movie</th>\n",
       "      <th>rating</th>\n",
       "      <th>timestamp</th>\n",
       "    </tr>\n",
       "  </thead>\n",
       "  <tbody>\n",
       "    <tr>\n",
       "      <th>19995</th>\n",
       "      <td>458</td>\n",
       "      <td>648</td>\n",
       "      <td>4</td>\n",
       "      <td>886395899</td>\n",
       "    </tr>\n",
       "    <tr>\n",
       "      <th>19996</th>\n",
       "      <td>458</td>\n",
       "      <td>1101</td>\n",
       "      <td>4</td>\n",
       "      <td>886397931</td>\n",
       "    </tr>\n",
       "    <tr>\n",
       "      <th>19997</th>\n",
       "      <td>459</td>\n",
       "      <td>934</td>\n",
       "      <td>3</td>\n",
       "      <td>879563639</td>\n",
       "    </tr>\n",
       "    <tr>\n",
       "      <th>19998</th>\n",
       "      <td>460</td>\n",
       "      <td>10</td>\n",
       "      <td>3</td>\n",
       "      <td>882912371</td>\n",
       "    </tr>\n",
       "    <tr>\n",
       "      <th>19999</th>\n",
       "      <td>462</td>\n",
       "      <td>682</td>\n",
       "      <td>5</td>\n",
       "      <td>886365231</td>\n",
       "    </tr>\n",
       "  </tbody>\n",
       "</table>\n",
       "</div>"
      ],
      "text/plain": [
       "       user  movie  rating  timestamp\n",
       "19995   458    648       4  886395899\n",
       "19996   458   1101       4  886397931\n",
       "19997   459    934       3  879563639\n",
       "19998   460     10       3  882912371\n",
       "19999   462    682       5  886365231"
      ]
     },
     "execution_count": 203,
     "metadata": {},
     "output_type": "execute_result"
    }
   ],
   "source": [
    "utest = pd.read_csv(\"data/ml-100k/u1.test\", delimiter=\"\\t\", names=(\"user\", \"movie\", \"rating\", \"timestamp\"))\n",
    "utest.tail()"
   ]
  },
  {
   "cell_type": "code",
   "execution_count": 181,
   "metadata": {
    "collapsed": false
   },
   "outputs": [
    {
     "data": {
      "text/plain": [
       "(1591, 462)"
      ]
     },
     "execution_count": 181,
     "metadata": {},
     "output_type": "execute_result"
    }
   ],
   "source": [
    "# 行が映画、列がユーザーのマトリックスを作成.\n",
    "test = np.zeros((utest[\"movie\"].max(), utest[\"user\"].max()), dtype=np.int)\n",
    "test.shape"
   ]
  },
  {
   "cell_type": "code",
   "execution_count": 182,
   "metadata": {
    "collapsed": true
   },
   "outputs": [],
   "source": [
    "# 上記で作成したマトリックスに、データを流し込む.\n",
    "for i, row in utest.iterrows():\n",
    "    # ratingが3以上のみを対象にしよう（好評価のみ）\n",
    "    if row[\"rating\"] >= 3:\n",
    "        test[row[\"movie\"]-1][row[\"user\"]-1] = 1"
   ]
  },
  {
   "cell_type": "code",
   "execution_count": 183,
   "metadata": {
    "collapsed": false
   },
   "outputs": [
    {
     "data": {
      "text/plain": [
       "(1591, 462)"
      ]
     },
     "execution_count": 183,
     "metadata": {},
     "output_type": "execute_result"
    }
   ],
   "source": [
    "df_test = pd.DataFrame(test)\n",
    "df_test.shape"
   ]
  },
  {
   "cell_type": "markdown",
   "metadata": {},
   "source": [
    "と、ここまでで評価用のDataFrameを作成することができました。  \n",
    "\n",
    "試しに、userId=1の人で、レコメンドが成功するかをテストしてみたいと思います。"
   ]
  },
  {
   "cell_type": "code",
   "execution_count": 184,
   "metadata": {
    "collapsed": false
   },
   "outputs": [
    {
     "data": {
      "text/plain": [
       "{257, 271}"
      ]
     },
     "execution_count": 184,
     "metadata": {},
     "output_type": "execute_result"
    }
   ],
   "source": [
    "# 試しに、userId=1の人でテスト.\n",
    "used = set(df_test[0].nonzero()[0].tolist())\n",
    "recommends = set(get_recommend_items(0))\n",
    "used & recommends"
   ]
  },
  {
   "cell_type": "markdown",
   "metadata": {},
   "source": [
    "無事にレコメンドができたようです（ホッとしますw）。\n",
    "\n",
    "続けて、他の人も評価を行なっていきましょう。"
   ]
  },
  {
   "cell_type": "code",
   "execution_count": 186,
   "metadata": {
    "collapsed": false
   },
   "outputs": [
    {
     "name": "stdout",
     "output_type": "stream",
     "text": [
      "全件=462, 成功数=334, 成功率=72%\n"
     ]
    }
   ],
   "source": [
    "# 続けて他の人もやってみよう.\n",
    "all = 0\n",
    "good = 0\n",
    "for user_id in range(df_test.shape[1]):\n",
    "    used = set(df_test[user_id].nonzero()[0].tolist())\n",
    "    recommends = set(get_recommend_items(user_id))\n",
    "    items = used & recommends\n",
    "    good += (1 if items else 0)\n",
    "    all += 1\n",
    "\n",
    "print(\"全件={0}, 成功数={1}, 成功率={2}%\".format(all, good, good * 100 // all))"
   ]
  },
  {
   "cell_type": "markdown",
   "metadata": {},
   "source": [
    "今回の場合には、72%の確率が、ユーザーが興味を持つかもしれない映画をレコメンドすることができました。 \n",
    "\n",
    "めでたしめでたし。"
   ]
  },
  {
   "cell_type": "code",
   "execution_count": null,
   "metadata": {
    "collapsed": true
   },
   "outputs": [],
   "source": []
  }
 ],
 "metadata": {
  "anaconda-cloud": {},
  "kernelspec": {
   "display_name": "Python [conda root]",
   "language": "python",
   "name": "conda-root-py"
  },
  "language_info": {
   "codemirror_mode": {
    "name": "ipython",
    "version": 3
   },
   "file_extension": ".py",
   "mimetype": "text/x-python",
   "name": "python",
   "nbconvert_exporter": "python",
   "pygments_lexer": "ipython3",
   "version": "3.5.2"
  }
 },
 "nbformat": 4,
 "nbformat_minor": 1
}
