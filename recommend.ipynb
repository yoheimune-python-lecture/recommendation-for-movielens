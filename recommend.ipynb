{
 "cells": [
  {
   "cell_type": "markdown",
   "metadata": {},
   "source": [
    "# MovieLens を用いたレコメンデーションの実装サンプル\n",
    "ここでは、レコメンデーションの実装例を示します。"
   ]
  },
  {
   "cell_type": "markdown",
   "metadata": {},
   "source": [
    "## 1. データの取得\n",
    "[MovieLens](https://grouplens.org/datasets/movielens/100k/) から利用するデータを取得します。取得したデータは **data/** ディレクトリに保存し、zip解凍を行います。"
   ]
  },
  {
   "cell_type": "code",
   "execution_count": 1,
   "metadata": {
    "collapsed": false
   },
   "outputs": [],
   "source": [
    "import os\n",
    "from urllib.request import urlopen\n",
    "\n",
    "# MovieLensのサイトから、Zipファイルを取得し、ローカルに保存します.\n",
    "# この処理は少しだけ時間がかかるので、未ダウンロードの場合のみ、実行します.\n",
    "file_name = \"data/ml-100k.zip\"\n",
    "if not os.path.exists(os.path.dirname(file_name)):\n",
    "    os.makedirs(os.path.dirname(file_name))\n",
    "if not os.path.exists(\"data/ml-100k.zip\"):\n",
    "    url = \"http://files.grouplens.org/datasets/movielens/ml-100k.zip\"\n",
    "    with urlopen(url) as res:\n",
    "        with open(\"data/ml-100k.zip\", \"wb\") as f:\n",
    "            f.write(res.read())\n",
    "    # Zipファイルを解凍します.\n",
    "    from shutil import unpack_archive\n",
    "    unpack_archive(\"data/ml-100k.zip\", \"data/\", \"zip\")"
   ]
  },
  {
   "cell_type": "markdown",
   "metadata": {},
   "source": [
    "## 2. データの前処理\n",
    "取得したデータのうち `u1.base` という学習用データ（全10万件のうち7万件）を利用します。  \n",
    "まずは、取得したデータをそのままの形で、DataFrameとして読み込んでみます。"
   ]
  },
  {
   "cell_type": "code",
   "execution_count": 2,
   "metadata": {
    "collapsed": false
   },
   "outputs": [
    {
     "data": {
      "text/html": [
       "<div>\n",
       "<table border=\"1\" class=\"dataframe\">\n",
       "  <thead>\n",
       "    <tr style=\"text-align: right;\">\n",
       "      <th></th>\n",
       "      <th>user</th>\n",
       "      <th>movie</th>\n",
       "      <th>rating</th>\n",
       "      <th>timestamp</th>\n",
       "    </tr>\n",
       "  </thead>\n",
       "  <tbody>\n",
       "    <tr>\n",
       "      <th>79995</th>\n",
       "      <td>943</td>\n",
       "      <td>1067</td>\n",
       "      <td>2</td>\n",
       "      <td>875501756</td>\n",
       "    </tr>\n",
       "    <tr>\n",
       "      <th>79996</th>\n",
       "      <td>943</td>\n",
       "      <td>1074</td>\n",
       "      <td>4</td>\n",
       "      <td>888640250</td>\n",
       "    </tr>\n",
       "    <tr>\n",
       "      <th>79997</th>\n",
       "      <td>943</td>\n",
       "      <td>1188</td>\n",
       "      <td>3</td>\n",
       "      <td>888640250</td>\n",
       "    </tr>\n",
       "    <tr>\n",
       "      <th>79998</th>\n",
       "      <td>943</td>\n",
       "      <td>1228</td>\n",
       "      <td>3</td>\n",
       "      <td>888640275</td>\n",
       "    </tr>\n",
       "    <tr>\n",
       "      <th>79999</th>\n",
       "      <td>943</td>\n",
       "      <td>1330</td>\n",
       "      <td>3</td>\n",
       "      <td>888692465</td>\n",
       "    </tr>\n",
       "  </tbody>\n",
       "</table>\n",
       "</div>"
      ],
      "text/plain": [
       "       user  movie  rating  timestamp\n",
       "79995   943   1067       2  875501756\n",
       "79996   943   1074       4  888640250\n",
       "79997   943   1188       3  888640250\n",
       "79998   943   1228       3  888640275\n",
       "79999   943   1330       3  888692465"
      ]
     },
     "execution_count": 2,
     "metadata": {},
     "output_type": "execute_result"
    }
   ],
   "source": [
    "import numpy as np\n",
    "import pandas as pd\n",
    "udata = pd.read_csv(\"data/ml-100k/u1.base\", delimiter=\"\\t\", names=(\"user\", \"movie\", \"rating\", \"timestamp\"))\n",
    "udata.tail()"
   ]
  },
  {
   "cell_type": "markdown",
   "metadata": {},
   "source": [
    "上記の形式だとモデルの学習に用いづらいため、 **行が映画、列がユーザーの行列(マトリックス)** に変換します。  \n",
    "ここでは `pivot` メソッドを使用します。\n",
    "\n",
    "そして今回は、少しだけ工夫をして、 **評価>=3のみ（つまり好評価のみ）を対象** に、評価データを取り込みます。  \n",
    "\n",
    "また評価数の情報は消し、評価>=3の場合には「1」を登録することとします。  \n",
    "*（評価をそのまま使うのか、「1」などにマスキングするのかは、精度が良い方にすればOKです）*"
   ]
  },
  {
   "cell_type": "code",
   "execution_count": 3,
   "metadata": {
    "collapsed": false
   },
   "outputs": [],
   "source": [
    "# 評価が3以上のデータを抽出.\n",
    "high_rate = udata.loc[udata[\"rating\"] >= 3]\n",
    "# movieを行, columnsを列にした後、欠損部分（=NaN）を0埋め.\n",
    "raw = high_rate.pivot(index=\"movie\", columns=\"user\", values=\"rating\")\n",
    "df = raw.fillna(0)\n",
    "# whereメソッドはわかりにくいですが、以下で3未満以外(つまり3以上)を1で埋めて返します\n",
    "df = df.where(df < 3, 1)"
   ]
  },
  {
   "cell_type": "code",
   "execution_count": 4,
   "metadata": {
    "collapsed": false
   },
   "outputs": [
    {
     "data": {
      "text/html": [
       "<div>\n",
       "<table border=\"1\" class=\"dataframe\">\n",
       "  <thead>\n",
       "    <tr style=\"text-align: right;\">\n",
       "      <th>user</th>\n",
       "      <th>1</th>\n",
       "      <th>2</th>\n",
       "      <th>3</th>\n",
       "      <th>4</th>\n",
       "      <th>5</th>\n",
       "      <th>6</th>\n",
       "      <th>7</th>\n",
       "      <th>8</th>\n",
       "      <th>9</th>\n",
       "      <th>10</th>\n",
       "      <th>...</th>\n",
       "      <th>934</th>\n",
       "      <th>935</th>\n",
       "      <th>936</th>\n",
       "      <th>937</th>\n",
       "      <th>938</th>\n",
       "      <th>939</th>\n",
       "      <th>940</th>\n",
       "      <th>941</th>\n",
       "      <th>942</th>\n",
       "      <th>943</th>\n",
       "    </tr>\n",
       "    <tr>\n",
       "      <th>movie</th>\n",
       "      <th></th>\n",
       "      <th></th>\n",
       "      <th></th>\n",
       "      <th></th>\n",
       "      <th></th>\n",
       "      <th></th>\n",
       "      <th></th>\n",
       "      <th></th>\n",
       "      <th></th>\n",
       "      <th></th>\n",
       "      <th></th>\n",
       "      <th></th>\n",
       "      <th></th>\n",
       "      <th></th>\n",
       "      <th></th>\n",
       "      <th></th>\n",
       "      <th></th>\n",
       "      <th></th>\n",
       "      <th></th>\n",
       "      <th></th>\n",
       "      <th></th>\n",
       "    </tr>\n",
       "  </thead>\n",
       "  <tbody>\n",
       "    <tr>\n",
       "      <th>1</th>\n",
       "      <td>1.0</td>\n",
       "      <td>1.0</td>\n",
       "      <td>0.0</td>\n",
       "      <td>0.0</td>\n",
       "      <td>0.0</td>\n",
       "      <td>1.0</td>\n",
       "      <td>0.0</td>\n",
       "      <td>0.0</td>\n",
       "      <td>0.0</td>\n",
       "      <td>0.0</td>\n",
       "      <td>...</td>\n",
       "      <td>0.0</td>\n",
       "      <td>1.0</td>\n",
       "      <td>1.0</td>\n",
       "      <td>0.0</td>\n",
       "      <td>1.0</td>\n",
       "      <td>0.0</td>\n",
       "      <td>0.0</td>\n",
       "      <td>1.0</td>\n",
       "      <td>0.0</td>\n",
       "      <td>0.0</td>\n",
       "    </tr>\n",
       "    <tr>\n",
       "      <th>2</th>\n",
       "      <td>1.0</td>\n",
       "      <td>0.0</td>\n",
       "      <td>0.0</td>\n",
       "      <td>0.0</td>\n",
       "      <td>0.0</td>\n",
       "      <td>0.0</td>\n",
       "      <td>0.0</td>\n",
       "      <td>0.0</td>\n",
       "      <td>0.0</td>\n",
       "      <td>0.0</td>\n",
       "      <td>...</td>\n",
       "      <td>1.0</td>\n",
       "      <td>0.0</td>\n",
       "      <td>0.0</td>\n",
       "      <td>0.0</td>\n",
       "      <td>0.0</td>\n",
       "      <td>0.0</td>\n",
       "      <td>0.0</td>\n",
       "      <td>0.0</td>\n",
       "      <td>0.0</td>\n",
       "      <td>1.0</td>\n",
       "    </tr>\n",
       "    <tr>\n",
       "      <th>3</th>\n",
       "      <td>1.0</td>\n",
       "      <td>0.0</td>\n",
       "      <td>0.0</td>\n",
       "      <td>0.0</td>\n",
       "      <td>0.0</td>\n",
       "      <td>0.0</td>\n",
       "      <td>0.0</td>\n",
       "      <td>0.0</td>\n",
       "      <td>0.0</td>\n",
       "      <td>0.0</td>\n",
       "      <td>...</td>\n",
       "      <td>0.0</td>\n",
       "      <td>0.0</td>\n",
       "      <td>1.0</td>\n",
       "      <td>0.0</td>\n",
       "      <td>0.0</td>\n",
       "      <td>0.0</td>\n",
       "      <td>0.0</td>\n",
       "      <td>0.0</td>\n",
       "      <td>0.0</td>\n",
       "      <td>0.0</td>\n",
       "    </tr>\n",
       "    <tr>\n",
       "      <th>4</th>\n",
       "      <td>1.0</td>\n",
       "      <td>0.0</td>\n",
       "      <td>0.0</td>\n",
       "      <td>0.0</td>\n",
       "      <td>0.0</td>\n",
       "      <td>0.0</td>\n",
       "      <td>1.0</td>\n",
       "      <td>0.0</td>\n",
       "      <td>0.0</td>\n",
       "      <td>0.0</td>\n",
       "      <td>...</td>\n",
       "      <td>1.0</td>\n",
       "      <td>0.0</td>\n",
       "      <td>0.0</td>\n",
       "      <td>0.0</td>\n",
       "      <td>0.0</td>\n",
       "      <td>0.0</td>\n",
       "      <td>0.0</td>\n",
       "      <td>0.0</td>\n",
       "      <td>0.0</td>\n",
       "      <td>0.0</td>\n",
       "    </tr>\n",
       "    <tr>\n",
       "      <th>5</th>\n",
       "      <td>1.0</td>\n",
       "      <td>0.0</td>\n",
       "      <td>0.0</td>\n",
       "      <td>0.0</td>\n",
       "      <td>0.0</td>\n",
       "      <td>0.0</td>\n",
       "      <td>0.0</td>\n",
       "      <td>0.0</td>\n",
       "      <td>0.0</td>\n",
       "      <td>0.0</td>\n",
       "      <td>...</td>\n",
       "      <td>0.0</td>\n",
       "      <td>0.0</td>\n",
       "      <td>0.0</td>\n",
       "      <td>0.0</td>\n",
       "      <td>0.0</td>\n",
       "      <td>0.0</td>\n",
       "      <td>0.0</td>\n",
       "      <td>0.0</td>\n",
       "      <td>0.0</td>\n",
       "      <td>0.0</td>\n",
       "    </tr>\n",
       "  </tbody>\n",
       "</table>\n",
       "<p>5 rows × 943 columns</p>\n",
       "</div>"
      ],
      "text/plain": [
       "user   1    2    3    4    5    6    7    8    9    10  ...   934  935  936  \\\n",
       "movie                                                   ...                   \n",
       "1      1.0  1.0  0.0  0.0  0.0  1.0  0.0  0.0  0.0  0.0 ...   0.0  1.0  1.0   \n",
       "2      1.0  0.0  0.0  0.0  0.0  0.0  0.0  0.0  0.0  0.0 ...   1.0  0.0  0.0   \n",
       "3      1.0  0.0  0.0  0.0  0.0  0.0  0.0  0.0  0.0  0.0 ...   0.0  0.0  1.0   \n",
       "4      1.0  0.0  0.0  0.0  0.0  0.0  1.0  0.0  0.0  0.0 ...   1.0  0.0  0.0   \n",
       "5      1.0  0.0  0.0  0.0  0.0  0.0  0.0  0.0  0.0  0.0 ...   0.0  0.0  0.0   \n",
       "\n",
       "user   937  938  939  940  941  942  943  \n",
       "movie                                     \n",
       "1      0.0  1.0  0.0  0.0  1.0  0.0  0.0  \n",
       "2      0.0  0.0  0.0  0.0  0.0  0.0  1.0  \n",
       "3      0.0  0.0  0.0  0.0  0.0  0.0  0.0  \n",
       "4      0.0  0.0  0.0  0.0  0.0  0.0  0.0  \n",
       "5      0.0  0.0  0.0  0.0  0.0  0.0  0.0  \n",
       "\n",
       "[5 rows x 943 columns]"
      ]
     },
     "execution_count": 4,
     "metadata": {},
     "output_type": "execute_result"
    }
   ],
   "source": [
    "df.head()"
   ]
  },
  {
   "cell_type": "markdown",
   "metadata": {},
   "source": [
    "（参考までに）  \n",
    "評価>=3のデータ数を確認してみましょう。"
   ]
  },
  {
   "cell_type": "code",
   "execution_count": 5,
   "metadata": {
    "collapsed": false
   },
   "outputs": [
    {
     "data": {
      "text/plain": [
       "66103"
      ]
     },
     "execution_count": 5,
     "metadata": {},
     "output_type": "execute_result"
    }
   ],
   "source": [
    "# 評価として取り込んだデータの数\n",
    "df.astype(bool).sum(axis=1).sum()"
   ]
  },
  {
   "cell_type": "markdown",
   "metadata": {},
   "source": [
    "全70,000件中、66,103件は好評価のようです（94%）。今回は、評価>=3の考慮はあまり意味がないかもしれません(笑)。  \n",
    "ですが、評価データを扱う場合にはそれがプラス/マイナスのどちらなのかを意識することは重要です。"
   ]
  },
  {
   "cell_type": "markdown",
   "metadata": {},
   "source": [
    "## 3. 映画同士の類似度を計算する\n",
    "それでは、学習データからレコメンドモデルを作成したいと思います。  \n",
    "\n",
    "前処理から、DataFrameは「1682 x 943」のデータです（映画数=1682、ユーザー数=943）。  \n",
    "\n",
    "そしてここでは各映画を、943個の特徴を持つベクトルと考えることにしましょう。  \n",
    "\n",
    "この時、2つのベクトル（=各映画）の近さ（=類似度）をどのように表現すれば良いでしょうか？  \n",
    "様々な方法がありますがここでは、2つのベクトルのなす角のコサインの値（=コサイン距離）を類似度として考えます。2つのベクトルが重なり合っている（なす角が0度）の場合にはコサイン=1で類似度Max、2つのベクトルが直行する場合にはコサイン=0で類似度0という具合です。\n",
    "\n",
    "まずは簡素化して、以下のような映画が2つあるとします。"
   ]
  },
  {
   "cell_type": "code",
   "execution_count": 6,
   "metadata": {
    "collapsed": true
   },
   "outputs": [],
   "source": [
    "item1 = np.array([1,1,0])\n",
    "item2 = np.array([1,0,1])"
   ]
  },
  {
   "cell_type": "markdown",
   "metadata": {},
   "source": [
    "上記は、それぞれ3つの特徴を持つベクトルで、コサイン距離（=類似度）は以下のように計算します。"
   ]
  },
  {
   "cell_type": "code",
   "execution_count": 7,
   "metadata": {
    "collapsed": false
   },
   "outputs": [
    {
     "name": "stdout",
     "output_type": "stream",
     "text": [
      "0.5\n"
     ]
    }
   ],
   "source": [
    "from scipy.spatial.distance import cosine\n",
    "sim = 1 - cosine(item1, item2)\n",
    "print(sim)"
   ]
  },
  {
   "cell_type": "markdown",
   "metadata": {},
   "source": [
    "上記の要領で、実際に映画ID=1と映画ID=2の類似度を計算してみると、以下のようになります。"
   ]
  },
  {
   "cell_type": "code",
   "execution_count": 8,
   "metadata": {
    "collapsed": false
   },
   "outputs": [
    {
     "name": "stdout",
     "output_type": "stream",
     "text": [
      "0.325207858278\n"
     ]
    }
   ],
   "source": [
    "sim = 1 - cosine(df.iloc[0], df.iloc[1])\n",
    "print(sim)"
   ]
  },
  {
   "cell_type": "markdown",
   "metadata": {},
   "source": [
    "上記の `0.32`は相対的な数値でありそれ自体に意味はありませんが、他の類似度と比較することで、より類似しているアイテムを見つけることができます。\n",
    "\n",
    "上記の雰囲気で、総当たりに全アイテムの類似度を計算します。  \n",
    "ここでは scipy の `pdist` を用いてお手軽に行います。"
   ]
  },
  {
   "cell_type": "code",
   "execution_count": 9,
   "metadata": {
    "collapsed": false
   },
   "outputs": [
    {
     "name": "stdout",
     "output_type": "stream",
     "text": [
      "[[-1.          0.32520786  0.27172635 ...,  0.          0.05322463\n",
      "   0.05322463]\n",
      " [ 0.32520786 -1.          0.20689728 ...,  0.          0.10910895\n",
      "   0.10910895]\n",
      " [ 0.27172635  0.20689728 -1.         ...,  0.          0.          0.14586499]\n",
      " ..., \n",
      " [ 0.          0.          0.         ..., -1.          0.          0.        ]\n",
      " [ 0.05322463  0.10910895  0.         ...,  0.         -1.          0.        ]\n",
      " [ 0.05322463  0.10910895  0.14586499 ...,  0.          0.         -1.        ]]\n"
     ]
    }
   ],
   "source": [
    "# 上記の雰囲気で、総当たりで全アイテムの距離を計算する.\n",
    "from scipy.spatial.distance import pdist\n",
    "\n",
    "# 類似度\n",
    "d = pdist(df, \"cosine\")\n",
    "d = 1 - d\n",
    "\n",
    "# 結果を行列に変換します（上記だとベクトルで見辛い！！）\n",
    "from scipy.spatial.distance import squareform\n",
    "d = squareform(d)\n",
    "# nan ができるので、0に補正します.\n",
    "d[np.isnan(d)] = 0\n",
    "\n",
    "# ここでちょっとしたトリックで、自分自身は「-1」に補正して、類似度を最低にします.\n",
    "d = d - np.eye(d.shape[0])\n",
    "\n",
    "# 表示してみる.\n",
    "print(d)"
   ]
  },
  {
   "cell_type": "markdown",
   "metadata": {},
   "source": [
    "上記で、各映画ごとの類似度を総当たりで計算することができました。  \n",
    "この類似度表を用いて、推薦するアイテムを作成します。"
   ]
  },
  {
   "cell_type": "markdown",
   "metadata": {},
   "source": [
    "## 4. レコメンドデータを作成する\n",
    "\n",
    "例えば、映画ID=1に類似する映画を、類似度の高い順に並べてみます。  \n",
    "\n",
    "メモリ効率や速度を考え、Numpyを使います。"
   ]
  },
  {
   "cell_type": "code",
   "execution_count": 10,
   "metadata": {
    "collapsed": false
   },
   "outputs": [
    {
     "name": "stdout",
     "output_type": "stream",
     "text": [
      "049:  0.628\n",
      "180:  0.602\n",
      "120:  0.564\n",
      "116:  0.559\n",
      "221:  0.545\n"
     ]
    }
   ],
   "source": [
    "# 映画ID=1（indexが0始まりなことに注意）\n",
    "movie_id = 0\n",
    "\n",
    "# 評価の良い順に並べます.\n",
    "# ソート後のインデックスを収納.\n",
    "id = d[movie_id].argsort()[::-1]\n",
    "\n",
    "# 最初の5件を表示してみます.\n",
    "for i in id[:5]:\n",
    "    print(\"{i:0>3d}: {v: .3f}\".format(i=i, v=d[movie_id, i]))"
   ]
  },
  {
   "cell_type": "markdown",
   "metadata": {},
   "source": [
    "上記の処理では、指定した映画に類似する映画を知ることができます。  \n",
    "この実装を応用して、指定したユーザーへ映画を5本レコメンドする関数を実装します。処理の流れは以下の通りです。  \n",
    "\n",
    "**指定したユーザーへ映画を5本レコメンドする関数の仕様**\n",
    "* 指定されたユーザーが評価した映画一覧を、学習用データから取得する\n",
    "* 各映画に対してレコメンド候補を取得する（**上記の処理がこちら**）\n",
    "* レコメンド候補から、すでに閲覧済のデータは除去する\n",
    "* レコメンド候補から、上位5件を返却する\n",
    "\n",
    "具体的な実装は、以下の通りです。"
   ]
  },
  {
   "cell_type": "code",
   "execution_count": 11,
   "metadata": {
    "collapsed": false
   },
   "outputs": [
    {
     "name": "stdout",
     "output_type": "stream",
     "text": [
      "[312, 301, 299, 306, 257]\n"
     ]
    }
   ],
   "source": [
    "# 指定したユーザーへレコメンドするアイテムを5個出力する関数\n",
    "def get_recommend_items(user_id):\n",
    "    # 高く評価した映画のリストを取得\n",
    "    favorite = df.loc[:, user_id].nonzero()\n",
    "    # 評価テーブルから、高評価の行を取り出す\n",
    "    table = d[favorite]\n",
    "    # 列ごとに類似度を合計\n",
    "    table[np.where(table < 0)] = 0\n",
    "    indicator = table.sum(axis=0)\n",
    "    # 類似度の高い順にソート\n",
    "    sorted_id = indicator.argsort()[::-1]\n",
    "    # 評価済み映画のリストを取得\n",
    "    reviewed = raw[raw.loc[:, user_id].notnull()].index.tolist()\n",
    "    # 評価済みを削除\n",
    "    recommend_id = [i for i in sorted_id if i not in reviewed]\n",
    "    # 5件だけ返す\n",
    "    return recommend_id[:5]\n",
    "\n",
    "# 試しにUser_ID=100の人\n",
    "recommends = get_recommend_items(100)\n",
    "print(recommends)"
   ]
  },
  {
   "cell_type": "markdown",
   "metadata": {},
   "source": [
    "これで、レコメンド処理の実装が完了しました！！！"
   ]
  },
  {
   "cell_type": "markdown",
   "metadata": {},
   "source": [
    "## 5. レコメンド結果の評価\n",
    "上記で作成したレコメンドモデルについて、どれほど良いのか（悪いのか）評価したいと思います。  \n",
    "ここでは評価用のデータ（u1.test）を用いて評価を行います。\n",
    "\n",
    "**[評価方法]**\n",
    "* 評価データに存在するユーザーに対して、レコメンドを5件表示する.\n",
    "  * レコメンドの生成は、上記で定義した「**get_recommend_items**」を用います.\n",
    "* 表示したレコメンド5件のうち、1件以上、評価データ内で閲覧したデータがあれば成功とする.\n",
    "* 「成功数 / ユーザー数」で精度を測る."
   ]
  },
  {
   "cell_type": "markdown",
   "metadata": {},
   "source": [
    "まずはテストデータを読み込みます。"
   ]
  },
  {
   "cell_type": "code",
   "execution_count": 12,
   "metadata": {
    "collapsed": false
   },
   "outputs": [
    {
     "data": {
      "text/html": [
       "<div>\n",
       "<table border=\"1\" class=\"dataframe\">\n",
       "  <thead>\n",
       "    <tr style=\"text-align: right;\">\n",
       "      <th></th>\n",
       "      <th>user</th>\n",
       "      <th>movie</th>\n",
       "      <th>rating</th>\n",
       "      <th>timestamp</th>\n",
       "    </tr>\n",
       "  </thead>\n",
       "  <tbody>\n",
       "    <tr>\n",
       "      <th>0</th>\n",
       "      <td>1</td>\n",
       "      <td>6</td>\n",
       "      <td>5</td>\n",
       "      <td>887431973</td>\n",
       "    </tr>\n",
       "    <tr>\n",
       "      <th>1</th>\n",
       "      <td>1</td>\n",
       "      <td>10</td>\n",
       "      <td>3</td>\n",
       "      <td>875693118</td>\n",
       "    </tr>\n",
       "    <tr>\n",
       "      <th>2</th>\n",
       "      <td>1</td>\n",
       "      <td>12</td>\n",
       "      <td>5</td>\n",
       "      <td>878542960</td>\n",
       "    </tr>\n",
       "    <tr>\n",
       "      <th>3</th>\n",
       "      <td>1</td>\n",
       "      <td>14</td>\n",
       "      <td>5</td>\n",
       "      <td>874965706</td>\n",
       "    </tr>\n",
       "    <tr>\n",
       "      <th>4</th>\n",
       "      <td>1</td>\n",
       "      <td>17</td>\n",
       "      <td>3</td>\n",
       "      <td>875073198</td>\n",
       "    </tr>\n",
       "  </tbody>\n",
       "</table>\n",
       "</div>"
      ],
      "text/plain": [
       "   user  movie  rating  timestamp\n",
       "0     1      6       5  887431973\n",
       "1     1     10       3  875693118\n",
       "2     1     12       5  878542960\n",
       "3     1     14       5  874965706\n",
       "4     1     17       3  875073198"
      ]
     },
     "execution_count": 12,
     "metadata": {},
     "output_type": "execute_result"
    }
   ],
   "source": [
    "utest = pd.read_csv(\"data/ml-100k/u1.test\", delimiter=\"\\t\", names=(\"user\", \"movie\", \"rating\", \"timestamp\"))\n",
    "utest.head()"
   ]
  },
  {
   "cell_type": "code",
   "execution_count": 13,
   "metadata": {
    "collapsed": true
   },
   "outputs": [],
   "source": [
    "# 好評価のみを対象とした、行列（行=映画、列=ユーザー）を作成します.\n",
    "high_rate_test = utest.loc[udata[\"rating\"] >= 3]\n",
    "raw_test = high_rate_test.pivot(index=\"movie\", columns=\"user\", values=\"rating\")\n",
    "df_test = raw_test.fillna(0)\n",
    "df_test = df_test.where(df_test < 3, 1)"
   ]
  },
  {
   "cell_type": "code",
   "execution_count": 14,
   "metadata": {
    "collapsed": false
   },
   "outputs": [
    {
     "data": {
      "text/plain": [
       "{97}"
      ]
     },
     "execution_count": 14,
     "metadata": {},
     "output_type": "execute_result"
    }
   ],
   "source": [
    "### 試しに、userId=1の人でテスト.\n",
    "user_id = 1\n",
    "# (1) レコメンド対象\n",
    "recommends = set(get_recommend_items(user_id))\n",
    "# (2) テストデータ内に存在する閲覧データ\n",
    "real = set(df_test.loc[:, user_id].nonzero()[0])\n",
    "# (1) と (2) の積集合\n",
    "real & recommends"
   ]
  },
  {
   "cell_type": "markdown",
   "metadata": {},
   "source": [
    "無事にレコメンドができたようです（ホッとしますw）。\n",
    "\n",
    "続けて、他の人も評価を行なっていきましょう。"
   ]
  },
  {
   "cell_type": "code",
   "execution_count": 15,
   "metadata": {
    "collapsed": false
   },
   "outputs": [
    {
     "name": "stdout",
     "output_type": "stream",
     "text": [
      "全件=458, 成功数=239, 成功率=52%\n"
     ]
    }
   ],
   "source": [
    "# テストデータに存在するユーザーの一覧を取得する.\n",
    "users = df_test.columns\n",
    "\n",
    "# 全ユーザー数\n",
    "all = len(users)\n",
    "\n",
    "# 成功数\n",
    "good = 0\n",
    "\n",
    "# 1ユーザーごとに、成功 or not を判定する.\n",
    "for user_id in users:\n",
    "    real = set(df_test.loc[:, user_id].nonzero()[0])\n",
    "    recommends = set(get_recommend_items(user_id))\n",
    "    matches = real & recommends\n",
    "    good += 1 if matches else 0\n",
    "\n",
    "# 結果を表示.\n",
    "print(\"全件={0}, 成功数={1}, 成功率={2}%\".format(all, good, good * 100 // all))"
   ]
  },
  {
   "cell_type": "markdown",
   "metadata": {},
   "source": [
    "今回の場合には、52%の確率で、ユーザーが将来閲覧する映画をレコメンドすることができました。\n",
    "\n",
    "めでたしめでたし。"
   ]
  }
 ],
 "metadata": {
  "anaconda-cloud": {},
  "kernelspec": {
   "display_name": "Python [default]",
   "language": "python",
   "name": "python3"
  },
  "language_info": {
   "codemirror_mode": {
    "name": "ipython",
    "version": 3
   },
   "file_extension": ".py",
   "mimetype": "text/x-python",
   "name": "python",
   "nbconvert_exporter": "python",
   "pygments_lexer": "ipython3",
   "version": "3.5.2"
  }
 },
 "nbformat": 4,
 "nbformat_minor": 2
}
