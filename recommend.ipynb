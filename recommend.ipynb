{
 "cells": [
  {
   "cell_type": "markdown",
   "metadata": {},
   "source": [
    "# MovieLens を用いたレコメンデーションの実装\n",
    "このノートでは、レコメンデーションの実装例を示します。"
   ]
  },
  {
   "cell_type": "code",
   "execution_count": 1,
   "metadata": {
    "collapsed": false
   },
   "outputs": [],
   "source": [
    "import os\n",
    "from urllib.request import urlopen\n",
    "\n",
    "#  MovieLensのデータを取得.\n",
    "if not os.path.exists(\"ml-100k.zip\"):\n",
    "    url = \"http://files.grouplens.org/datasets/movielens/ml-100k.zip\"\n",
    "    with urlopen(url) as res:\n",
    "        with open(\"data/ml-100k.zip\", \"wb\") as f:\n",
    "            f.write(res.read())"
   ]
  },
  {
   "cell_type": "code",
   "execution_count": 2,
   "metadata": {
    "collapsed": false
   },
   "outputs": [],
   "source": [
    "# Zipファイルを解凍.\n",
    "from shutil import unpack_archive\n",
    "unpack_archive(\"data/ml-100k.zip\", \"data/\", \"zip\")"
   ]
  },
  {
   "cell_type": "code",
   "execution_count": 72,
   "metadata": {
    "collapsed": false
   },
   "outputs": [
    {
     "data": {
      "text/html": [
       "<div>\n",
       "<table border=\"1\" class=\"dataframe\">\n",
       "  <thead>\n",
       "    <tr style=\"text-align: right;\">\n",
       "      <th></th>\n",
       "      <th>user</th>\n",
       "      <th>movie</th>\n",
       "      <th>rating</th>\n",
       "      <th>timestamp</th>\n",
       "    </tr>\n",
       "  </thead>\n",
       "  <tbody>\n",
       "    <tr>\n",
       "      <th>79995</th>\n",
       "      <td>943</td>\n",
       "      <td>1067</td>\n",
       "      <td>2</td>\n",
       "      <td>875501756</td>\n",
       "    </tr>\n",
       "    <tr>\n",
       "      <th>79996</th>\n",
       "      <td>943</td>\n",
       "      <td>1074</td>\n",
       "      <td>4</td>\n",
       "      <td>888640250</td>\n",
       "    </tr>\n",
       "    <tr>\n",
       "      <th>79997</th>\n",
       "      <td>943</td>\n",
       "      <td>1188</td>\n",
       "      <td>3</td>\n",
       "      <td>888640250</td>\n",
       "    </tr>\n",
       "    <tr>\n",
       "      <th>79998</th>\n",
       "      <td>943</td>\n",
       "      <td>1228</td>\n",
       "      <td>3</td>\n",
       "      <td>888640275</td>\n",
       "    </tr>\n",
       "    <tr>\n",
       "      <th>79999</th>\n",
       "      <td>943</td>\n",
       "      <td>1330</td>\n",
       "      <td>3</td>\n",
       "      <td>888692465</td>\n",
       "    </tr>\n",
       "  </tbody>\n",
       "</table>\n",
       "</div>"
      ],
      "text/plain": [
       "       user  movie  rating  timestamp\n",
       "79995   943   1067       2  875501756\n",
       "79996   943   1074       4  888640250\n",
       "79997   943   1188       3  888640250\n",
       "79998   943   1228       3  888640275\n",
       "79999   943   1330       3  888692465"
      ]
     },
     "execution_count": 72,
     "metadata": {},
     "output_type": "execute_result"
    }
   ],
   "source": [
    "import numpy as np\n",
    "import pandas as pd\n",
    "\n",
    "# 評価データを読み込み（ u1.base は学習用データ）\n",
    "udata = pd.read_csv(\"data/ml-100k/u1.base\", delimiter=\"\\t\", names=(\"user\", \"movie\", \"rating\", \"timestamp\"))\n",
    "udata.tail()"
   ]
  },
  {
   "cell_type": "code",
   "execution_count": 73,
   "metadata": {
    "collapsed": false
   },
   "outputs": [
    {
     "data": {
      "text/plain": [
       "(1682, 943)"
      ]
     },
     "execution_count": 73,
     "metadata": {},
     "output_type": "execute_result"
    }
   ],
   "source": [
    "# 行が映画、列がユーザーのマトリックスを作成.\n",
    "data = np.zeros((udata[\"movie\"].max(), udata[\"user\"].max()), dtype=np.int)\n",
    "data.shape"
   ]
  },
  {
   "cell_type": "code",
   "execution_count": 74,
   "metadata": {
    "collapsed": false
   },
   "outputs": [],
   "source": [
    "# 上記で作成したマトリックスに、データを流し込む.\n",
    "for i, row in udata.iterrows():\n",
    "    # ratingが3以上のみを対象にしよう（好評価のみ）\n",
    "    if row[\"rating\"] >= 3:\n",
    "        data[row[\"movie\"]-1][row[\"user\"]-1] = 1"
   ]
  },
  {
   "cell_type": "code",
   "execution_count": 75,
   "metadata": {
    "collapsed": false
   },
   "outputs": [
    {
     "data": {
      "text/html": [
       "<div>\n",
       "<table border=\"1\" class=\"dataframe\">\n",
       "  <thead>\n",
       "    <tr style=\"text-align: right;\">\n",
       "      <th></th>\n",
       "      <th>0</th>\n",
       "      <th>1</th>\n",
       "      <th>2</th>\n",
       "      <th>3</th>\n",
       "      <th>4</th>\n",
       "      <th>5</th>\n",
       "      <th>6</th>\n",
       "      <th>7</th>\n",
       "      <th>8</th>\n",
       "      <th>9</th>\n",
       "      <th>...</th>\n",
       "      <th>933</th>\n",
       "      <th>934</th>\n",
       "      <th>935</th>\n",
       "      <th>936</th>\n",
       "      <th>937</th>\n",
       "      <th>938</th>\n",
       "      <th>939</th>\n",
       "      <th>940</th>\n",
       "      <th>941</th>\n",
       "      <th>942</th>\n",
       "    </tr>\n",
       "  </thead>\n",
       "  <tbody>\n",
       "    <tr>\n",
       "      <th>0</th>\n",
       "      <td>1</td>\n",
       "      <td>1</td>\n",
       "      <td>0</td>\n",
       "      <td>0</td>\n",
       "      <td>0</td>\n",
       "      <td>1</td>\n",
       "      <td>0</td>\n",
       "      <td>0</td>\n",
       "      <td>0</td>\n",
       "      <td>0</td>\n",
       "      <td>...</td>\n",
       "      <td>0</td>\n",
       "      <td>1</td>\n",
       "      <td>1</td>\n",
       "      <td>0</td>\n",
       "      <td>1</td>\n",
       "      <td>0</td>\n",
       "      <td>0</td>\n",
       "      <td>1</td>\n",
       "      <td>0</td>\n",
       "      <td>0</td>\n",
       "    </tr>\n",
       "    <tr>\n",
       "      <th>1</th>\n",
       "      <td>1</td>\n",
       "      <td>0</td>\n",
       "      <td>0</td>\n",
       "      <td>0</td>\n",
       "      <td>0</td>\n",
       "      <td>0</td>\n",
       "      <td>0</td>\n",
       "      <td>0</td>\n",
       "      <td>0</td>\n",
       "      <td>0</td>\n",
       "      <td>...</td>\n",
       "      <td>1</td>\n",
       "      <td>0</td>\n",
       "      <td>0</td>\n",
       "      <td>0</td>\n",
       "      <td>0</td>\n",
       "      <td>0</td>\n",
       "      <td>0</td>\n",
       "      <td>0</td>\n",
       "      <td>0</td>\n",
       "      <td>1</td>\n",
       "    </tr>\n",
       "    <tr>\n",
       "      <th>2</th>\n",
       "      <td>1</td>\n",
       "      <td>0</td>\n",
       "      <td>0</td>\n",
       "      <td>0</td>\n",
       "      <td>0</td>\n",
       "      <td>0</td>\n",
       "      <td>0</td>\n",
       "      <td>0</td>\n",
       "      <td>0</td>\n",
       "      <td>0</td>\n",
       "      <td>...</td>\n",
       "      <td>0</td>\n",
       "      <td>0</td>\n",
       "      <td>1</td>\n",
       "      <td>0</td>\n",
       "      <td>0</td>\n",
       "      <td>0</td>\n",
       "      <td>0</td>\n",
       "      <td>0</td>\n",
       "      <td>0</td>\n",
       "      <td>0</td>\n",
       "    </tr>\n",
       "    <tr>\n",
       "      <th>3</th>\n",
       "      <td>1</td>\n",
       "      <td>0</td>\n",
       "      <td>0</td>\n",
       "      <td>0</td>\n",
       "      <td>0</td>\n",
       "      <td>0</td>\n",
       "      <td>1</td>\n",
       "      <td>0</td>\n",
       "      <td>0</td>\n",
       "      <td>0</td>\n",
       "      <td>...</td>\n",
       "      <td>1</td>\n",
       "      <td>0</td>\n",
       "      <td>0</td>\n",
       "      <td>0</td>\n",
       "      <td>0</td>\n",
       "      <td>0</td>\n",
       "      <td>0</td>\n",
       "      <td>0</td>\n",
       "      <td>0</td>\n",
       "      <td>0</td>\n",
       "    </tr>\n",
       "    <tr>\n",
       "      <th>4</th>\n",
       "      <td>1</td>\n",
       "      <td>0</td>\n",
       "      <td>0</td>\n",
       "      <td>0</td>\n",
       "      <td>0</td>\n",
       "      <td>0</td>\n",
       "      <td>0</td>\n",
       "      <td>0</td>\n",
       "      <td>0</td>\n",
       "      <td>0</td>\n",
       "      <td>...</td>\n",
       "      <td>0</td>\n",
       "      <td>0</td>\n",
       "      <td>0</td>\n",
       "      <td>0</td>\n",
       "      <td>0</td>\n",
       "      <td>0</td>\n",
       "      <td>0</td>\n",
       "      <td>0</td>\n",
       "      <td>0</td>\n",
       "      <td>0</td>\n",
       "    </tr>\n",
       "  </tbody>\n",
       "</table>\n",
       "<p>5 rows × 943 columns</p>\n",
       "</div>"
      ],
      "text/plain": [
       "   0    1    2    3    4    5    6    7    8    9   ...   933  934  935  936  \\\n",
       "0    1    1    0    0    0    1    0    0    0    0 ...     0    1    1    0   \n",
       "1    1    0    0    0    0    0    0    0    0    0 ...     1    0    0    0   \n",
       "2    1    0    0    0    0    0    0    0    0    0 ...     0    0    1    0   \n",
       "3    1    0    0    0    0    0    1    0    0    0 ...     1    0    0    0   \n",
       "4    1    0    0    0    0    0    0    0    0    0 ...     0    0    0    0   \n",
       "\n",
       "   937  938  939  940  941  942  \n",
       "0    1    0    0    1    0    0  \n",
       "1    0    0    0    0    0    1  \n",
       "2    0    0    0    0    0    0  \n",
       "3    0    0    0    0    0    0  \n",
       "4    0    0    0    0    0    0  \n",
       "\n",
       "[5 rows x 943 columns]"
      ]
     },
     "execution_count": 75,
     "metadata": {},
     "output_type": "execute_result"
    }
   ],
   "source": [
    "df = pd.DataFrame(data)\n",
    "df.head()"
   ]
  },
  {
   "cell_type": "code",
   "execution_count": 76,
   "metadata": {
    "collapsed": false
   },
   "outputs": [
    {
     "data": {
      "text/plain": [
       "66103"
      ]
     },
     "execution_count": 76,
     "metadata": {},
     "output_type": "execute_result"
    }
   ],
   "source": [
    "# 評価データ数\n",
    "# 評価データのうち82%は、3以上をつけているよう。みんな良い評価をつけたがる。\n",
    "df.astype(bool).sum(axis=1).sum()"
   ]
  },
  {
   "cell_type": "code",
   "execution_count": 77,
   "metadata": {
    "collapsed": false
   },
   "outputs": [
    {
     "name": "stdout",
     "output_type": "stream",
     "text": [
      "0.0\n",
      "0.325207858278\n"
     ]
    }
   ],
   "source": [
    "from scipy.spatial.distance import cosine\n",
    "\n",
    "item1 = np.array([0,1,0])\n",
    "item2 = np.array([1,0,1])\n",
    "sim = 1- cosine(item1, item2)\n",
    "print(sim)\n",
    "\n",
    "# 個別のアイテム同士で、距離を求めてみる（ここではコサイン距離）\n",
    "item1 = data[0]\n",
    "item2 = data[1]\n",
    "sim = 1 - cosine(item1, item2)\n",
    "print(sim)"
   ]
  },
  {
   "cell_type": "code",
   "execution_count": 78,
   "metadata": {
    "collapsed": false
   },
   "outputs": [
    {
     "name": "stdout",
     "output_type": "stream",
     "text": [
      "[[ 0.          0.32520786  0.27172635 ...,  0.          0.05322463\n",
      "   0.05322463]\n",
      " [ 0.32520786  0.          0.20689728 ...,  0.          0.10910895\n",
      "   0.10910895]\n",
      " [ 0.27172635  0.20689728  0.         ...,  0.          0.          0.14586499]\n",
      " ..., \n",
      " [ 0.          0.          0.         ...,  0.          0.          0.        ]\n",
      " [ 0.05322463  0.10910895  0.         ...,  0.          0.          0.        ]\n",
      " [ 0.05322463  0.10910895  0.14586499 ...,  0.          0.          0.        ]]\n"
     ]
    }
   ],
   "source": [
    "# 上記の雰囲気で、総当たりで全アイテムの距離を計算する.\n",
    "\n",
    "from scipy.spatial.distance import pdist\n",
    "d = pdist(data, \"cosine\")\n",
    "# 類似度 = 1 - コサイン距離\n",
    "d = 1 - d\n",
    "\n",
    "# 結果を行列に変換します（上記だとベクトルで見辛い！！）\n",
    "from scipy.spatial.distance import squareform\n",
    "d = squareform(d)\n",
    "# nan ができるので、0に補正します.\n",
    "d[np.isnan(d)] = 0\n",
    "\n",
    "# 表示してみる.\n",
    "print(d)"
   ]
  },
  {
   "cell_type": "code",
   "execution_count": 79,
   "metadata": {
    "collapsed": false
   },
   "outputs": [
    {
     "name": "stdout",
     "output_type": "stream",
     "text": [
      "[[-1.          0.32520786  0.27172635 ...,  0.          0.05322463\n",
      "   0.05322463]\n",
      " [ 0.32520786 -1.          0.20689728 ...,  0.          0.10910895\n",
      "   0.10910895]\n",
      " [ 0.27172635  0.20689728 -1.         ...,  0.          0.          0.14586499]\n",
      " ..., \n",
      " [ 0.          0.          0.         ..., -1.          0.          0.        ]\n",
      " [ 0.05322463  0.10910895  0.         ...,  0.         -1.          0.        ]\n",
      " [ 0.05322463  0.10910895  0.14586499 ...,  0.          0.         -1.        ]]\n"
     ]
    }
   ],
   "source": [
    "# 試しに推薦をして見ます.\n",
    "\n",
    "# ここでちょっとしたトリックで、自分自身は「-1」に補正して、類似度を最低にします.\n",
    "d = d - np.eye(d.shape[0])\n",
    "print(d)"
   ]
  },
  {
   "cell_type": "code",
   "execution_count": 80,
   "metadata": {
    "collapsed": false
   },
   "outputs": [
    {
     "name": "stdout",
     "output_type": "stream",
     "text": [
      "[(50, 0.62828380959743046),\n",
      " (181, 0.60179361066116654),\n",
      " (121, 0.56361171748207761),\n",
      " (117, 0.55909527338435139),\n",
      " (222, 0.5448072284259402),\n",
      " (405, 0.53934291268451406),\n",
      " (257, 0.52993874949054487),\n",
      " (237, 0.52990539045000284),\n",
      " (7, 0.52766307860331085),\n",
      " (151, 0.51909505604442208)]\n"
     ]
    }
   ],
   "source": [
    "\n",
    "# class Container(object):\n",
    "#     def __init__(self, id, sim):\n",
    "#         self.id = id\n",
    "#         self.sim = sim\n",
    "#     def __repr__(self):\n",
    "#         return \"{0} : {1}\".format(self.id, self.sim)\n",
    "\n",
    "# 例えば、映画1（movie=1）に類似する映画を、類似度の高い順に並べます.\n",
    "recommends = {}\n",
    "for index, sim in enumerate(d[0]):\n",
    "    if sim > 0:\n",
    "        recommends[index + 1] = sim # indexは0始まりになっているので、+1してidに変換する.\n",
    "        \n",
    "recommends = sorted(list(recommends.items()), key=lambda r:r[1], reverse=True)\n",
    "from pprint import pprint\n",
    "pprint(recommends[:10])\n"
   ]
  },
  {
   "cell_type": "code",
   "execution_count": 179,
   "metadata": {
    "collapsed": false
   },
   "outputs": [
    {
     "name": "stdout",
     "output_type": "stream",
     "text": [
      "[236, 110, 297, 49, 120, 281, 470, 814, 14, 404]\n"
     ]
    }
   ],
   "source": [
    "# 指定したユーザーへレコメンドするアイテムを10個出力する関数\n",
    "def get_recommend_items(user_id):\n",
    "    # 指定ユーザーが評価した映画一覧を取得.\n",
    "    used = set(df[user_id].nonzero()[0].tolist())\n",
    "    # レコメンドを作成.\n",
    "    candidates = {}\n",
    "    for movie_id in used:\n",
    "        for index, sim in enumerate(d[movie_id]):\n",
    "            if sim > 0:\n",
    "                candidates[index] = sim\n",
    "    candidates = sorted(list(candidates.items()), key=lambda r:r[1], reverse=True)\n",
    "    # すでに閲覧済は除く.\n",
    "    recommends = []\n",
    "    for c in candidates:\n",
    "        if c[0] not in used:\n",
    "            recommends.append(c)\n",
    "#         else:\n",
    "#             print(\"USED:\", c)\n",
    "#     print(recommends)\n",
    "    \n",
    "    return [r[0] for r in recommends[:10]]\n",
    "\n",
    "# 試しにUser_ID=100の人\n",
    "recommends = get_recommend_items(100)\n",
    "print(recommends)"
   ]
  },
  {
   "cell_type": "code",
   "execution_count": 180,
   "metadata": {
    "collapsed": false
   },
   "outputs": [
    {
     "data": {
      "text/html": [
       "<div>\n",
       "<table border=\"1\" class=\"dataframe\">\n",
       "  <thead>\n",
       "    <tr style=\"text-align: right;\">\n",
       "      <th></th>\n",
       "      <th>user</th>\n",
       "      <th>movie</th>\n",
       "      <th>rating</th>\n",
       "      <th>timestamp</th>\n",
       "    </tr>\n",
       "  </thead>\n",
       "  <tbody>\n",
       "    <tr>\n",
       "      <th>19995</th>\n",
       "      <td>458</td>\n",
       "      <td>648</td>\n",
       "      <td>4</td>\n",
       "      <td>886395899</td>\n",
       "    </tr>\n",
       "    <tr>\n",
       "      <th>19996</th>\n",
       "      <td>458</td>\n",
       "      <td>1101</td>\n",
       "      <td>4</td>\n",
       "      <td>886397931</td>\n",
       "    </tr>\n",
       "    <tr>\n",
       "      <th>19997</th>\n",
       "      <td>459</td>\n",
       "      <td>934</td>\n",
       "      <td>3</td>\n",
       "      <td>879563639</td>\n",
       "    </tr>\n",
       "    <tr>\n",
       "      <th>19998</th>\n",
       "      <td>460</td>\n",
       "      <td>10</td>\n",
       "      <td>3</td>\n",
       "      <td>882912371</td>\n",
       "    </tr>\n",
       "    <tr>\n",
       "      <th>19999</th>\n",
       "      <td>462</td>\n",
       "      <td>682</td>\n",
       "      <td>5</td>\n",
       "      <td>886365231</td>\n",
       "    </tr>\n",
       "  </tbody>\n",
       "</table>\n",
       "</div>"
      ],
      "text/plain": [
       "       user  movie  rating  timestamp\n",
       "19995   458    648       4  886395899\n",
       "19996   458   1101       4  886397931\n",
       "19997   459    934       3  879563639\n",
       "19998   460     10       3  882912371\n",
       "19999   462    682       5  886365231"
      ]
     },
     "execution_count": 180,
     "metadata": {},
     "output_type": "execute_result"
    }
   ],
   "source": [
    "# テストデータを読み込む.（ u1.test は学習用データ）\n",
    "utest = pd.read_csv(\"data/ml-100k/u1.test\", delimiter=\"\\t\", names=(\"user\", \"movie\", \"rating\", \"timestamp\"))\n",
    "utest.tail()"
   ]
  },
  {
   "cell_type": "code",
   "execution_count": 181,
   "metadata": {
    "collapsed": false
   },
   "outputs": [
    {
     "data": {
      "text/plain": [
       "(1591, 462)"
      ]
     },
     "execution_count": 181,
     "metadata": {},
     "output_type": "execute_result"
    }
   ],
   "source": [
    "# 行が映画、列がユーザーのマトリックスを作成.\n",
    "test = np.zeros((utest[\"movie\"].max(), utest[\"user\"].max()), dtype=np.int)\n",
    "test.shape"
   ]
  },
  {
   "cell_type": "code",
   "execution_count": 182,
   "metadata": {
    "collapsed": true
   },
   "outputs": [],
   "source": [
    "# 上記で作成したマトリックスに、データを流し込む.\n",
    "for i, row in utest.iterrows():\n",
    "    # ratingが3以上のみを対象にしよう（好評価のみ）\n",
    "    if row[\"rating\"] >= 3:\n",
    "        test[row[\"movie\"]-1][row[\"user\"]-1] = 1"
   ]
  },
  {
   "cell_type": "code",
   "execution_count": 183,
   "metadata": {
    "collapsed": false
   },
   "outputs": [
    {
     "data": {
      "text/plain": [
       "(1591, 462)"
      ]
     },
     "execution_count": 183,
     "metadata": {},
     "output_type": "execute_result"
    }
   ],
   "source": [
    "df_test = pd.DataFrame(test)\n",
    "df_test.shape"
   ]
  },
  {
   "cell_type": "code",
   "execution_count": 184,
   "metadata": {
    "collapsed": false
   },
   "outputs": [
    {
     "data": {
      "text/plain": [
       "{257, 271}"
      ]
     },
     "execution_count": 184,
     "metadata": {},
     "output_type": "execute_result"
    }
   ],
   "source": [
    "# 試しに、userId=1の人でテスト.\n",
    "used = set(df_test[0].nonzero()[0].tolist())\n",
    "recommends = set(get_recommend_items(0))\n",
    "used & recommends"
   ]
  },
  {
   "cell_type": "code",
   "execution_count": 185,
   "metadata": {
    "collapsed": true
   },
   "outputs": [],
   "source": [
    "# 無事にレコメンドができたようだ！"
   ]
  },
  {
   "cell_type": "code",
   "execution_count": 186,
   "metadata": {
    "collapsed": false
   },
   "outputs": [
    {
     "name": "stdout",
     "output_type": "stream",
     "text": [
      "全件=462, 成功数=334, 成功率=72%\n"
     ]
    }
   ],
   "source": [
    "# 続けて他の人もやってみよう.\n",
    "all = 0\n",
    "good = 0\n",
    "for user_id in range(df_test.shape[1]):\n",
    "    used = set(df_test[user_id].nonzero()[0].tolist())\n",
    "    recommends = set(get_recommend_items(user_id))\n",
    "    items = used & recommends\n",
    "    good += (1 if items else 0)\n",
    "    all += 1\n",
    "\n",
    "print(\"全件={0}, 成功数={1}, 成功率={2}%\".format(all, good, good * 100 // all))"
   ]
  },
  {
   "cell_type": "code",
   "execution_count": null,
   "metadata": {
    "collapsed": true
   },
   "outputs": [],
   "source": []
  }
 ],
 "metadata": {
  "anaconda-cloud": {},
  "kernelspec": {
   "display_name": "Python [conda root]",
   "language": "python",
   "name": "conda-root-py"
  },
  "language_info": {
   "codemirror_mode": {
    "name": "ipython",
    "version": 3
   },
   "file_extension": ".py",
   "mimetype": "text/x-python",
   "name": "python",
   "nbconvert_exporter": "python",
   "pygments_lexer": "ipython3",
   "version": "3.5.2"
  }
 },
 "nbformat": 4,
 "nbformat_minor": 1
}
